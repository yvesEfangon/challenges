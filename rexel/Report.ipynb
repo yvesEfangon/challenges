{
 "cells": [
  {
   "cell_type": "markdown",
   "metadata": {},
   "source": [
    "# __THE TELCO CHURN CHALLENGE FOR REXEL__"
   ]
  },
  {
   "cell_type": "markdown",
   "metadata": {},
   "source": [
    "## 1. Introduction"
   ]
  },
  {
   "cell_type": "markdown",
   "metadata": {},
   "source": [
    "The objective of this challenge is to prevent customer to stop using TELCO Inc phoning services.\n",
    "\n",
    "There are many reasons why customers may churn. It's crucial to detect those customers before they leave.\n",
    "\n",
    "One of the most effective way to achive that goal is to use the data.\n",
    "\n",
    "Based on historical data, we are going to detect customers who may leave and suggest actions that can avoid the leaving.\n",
    "\n",
    "## 2. The data\n",
    "\n",
    "We have 2 datasets to achieve the challenge. _The training dataset_, will be use to train, test and evaluate machine learning models. The validation dataset is for the final submission of the challenge."
   ]
  },
  {
   "cell_type": "code",
   "execution_count": 2,
   "metadata": {},
   "outputs": [],
   "source": [
    "import numpy as np\n",
    "import pandas as pd\n",
    "\n",
    "data = pd.read_csv('data/training.csv', na_values=[\" \"])"
   ]
  },
  {
   "cell_type": "code",
   "execution_count": 3,
   "metadata": {},
   "outputs": [
    {
     "name": "stdout",
     "output_type": "stream",
     "text": [
      "The dataset shape:  (11981, 19)\n"
     ]
    }
   ],
   "source": [
    "print(\"The dataset shape: \", data.shape)"
   ]
  },
  {
   "cell_type": "markdown",
   "metadata": {},
   "source": [
    "The data we have for this challenge has __11981__ rows and __19__ columns (or variables). Let's visualize the first 6 rows of the data:"
   ]
  },
  {
   "cell_type": "code",
   "execution_count": 4,
   "metadata": {},
   "outputs": [
    {
     "data": {
      "text/html": [
       "<div>\n",
       "<style scoped>\n",
       "    .dataframe tbody tr th:only-of-type {\n",
       "        vertical-align: middle;\n",
       "    }\n",
       "\n",
       "    .dataframe tbody tr th {\n",
       "        vertical-align: top;\n",
       "    }\n",
       "\n",
       "    .dataframe thead th {\n",
       "        text-align: right;\n",
       "    }\n",
       "</style>\n",
       "<table border=\"1\" class=\"dataframe\">\n",
       "  <thead>\n",
       "    <tr style=\"text-align: right;\">\n",
       "      <th></th>\n",
       "      <th>0</th>\n",
       "      <th>1</th>\n",
       "      <th>2</th>\n",
       "      <th>3</th>\n",
       "      <th>4</th>\n",
       "    </tr>\n",
       "  </thead>\n",
       "  <tbody>\n",
       "    <tr>\n",
       "      <td>CUSTOMER_ID</td>\n",
       "      <td>C100000</td>\n",
       "      <td>C100001</td>\n",
       "      <td>C100006</td>\n",
       "      <td>C100008</td>\n",
       "      <td>C100010</td>\n",
       "    </tr>\n",
       "    <tr>\n",
       "      <td>COLLEGE</td>\n",
       "      <td>zero</td>\n",
       "      <td>one</td>\n",
       "      <td>zero</td>\n",
       "      <td>zero</td>\n",
       "      <td>one</td>\n",
       "    </tr>\n",
       "    <tr>\n",
       "      <td>DATA</td>\n",
       "      <td>660</td>\n",
       "      <td>317.647</td>\n",
       "      <td>208.696</td>\n",
       "      <td>265.018</td>\n",
       "      <td>440</td>\n",
       "    </tr>\n",
       "    <tr>\n",
       "      <td>INCOME</td>\n",
       "      <td>19995</td>\n",
       "      <td>31477</td>\n",
       "      <td>66742</td>\n",
       "      <td>40864</td>\n",
       "      <td>43321.5</td>\n",
       "    </tr>\n",
       "    <tr>\n",
       "      <td>OVERCHARGE</td>\n",
       "      <td>0</td>\n",
       "      <td>155</td>\n",
       "      <td>0</td>\n",
       "      <td>183</td>\n",
       "      <td>200</td>\n",
       "    </tr>\n",
       "    <tr>\n",
       "      <td>LEFTOVER</td>\n",
       "      <td>0</td>\n",
       "      <td>15</td>\n",
       "      <td>13</td>\n",
       "      <td>0</td>\n",
       "      <td>0</td>\n",
       "    </tr>\n",
       "    <tr>\n",
       "      <td>HOUSE</td>\n",
       "      <td>897338</td>\n",
       "      <td>393396</td>\n",
       "      <td>937197</td>\n",
       "      <td>986430</td>\n",
       "      <td>394622</td>\n",
       "    </tr>\n",
       "    <tr>\n",
       "      <td>LESSTHAN600k</td>\n",
       "      <td>False</td>\n",
       "      <td>True</td>\n",
       "      <td>False</td>\n",
       "      <td>False</td>\n",
       "      <td>True</td>\n",
       "    </tr>\n",
       "    <tr>\n",
       "      <td>CHILD</td>\n",
       "      <td>4</td>\n",
       "      <td>0</td>\n",
       "      <td>4</td>\n",
       "      <td>3</td>\n",
       "      <td>2</td>\n",
       "    </tr>\n",
       "    <tr>\n",
       "      <td>JOB_CLASS</td>\n",
       "      <td>3</td>\n",
       "      <td>1</td>\n",
       "      <td>2</td>\n",
       "      <td>3</td>\n",
       "      <td>3</td>\n",
       "    </tr>\n",
       "    <tr>\n",
       "      <td>REVENUE</td>\n",
       "      <td>160</td>\n",
       "      <td>100</td>\n",
       "      <td>127</td>\n",
       "      <td>86</td>\n",
       "      <td>77</td>\n",
       "    </tr>\n",
       "    <tr>\n",
       "      <td>HANDSET_PRICE</td>\n",
       "      <td>155</td>\n",
       "      <td>245</td>\n",
       "      <td>493</td>\n",
       "      <td>390</td>\n",
       "      <td>175</td>\n",
       "    </tr>\n",
       "    <tr>\n",
       "      <td>OVER_15MINS_CALLS_PER_MONTH</td>\n",
       "      <td>1</td>\n",
       "      <td>27</td>\n",
       "      <td>20</td>\n",
       "      <td>13</td>\n",
       "      <td>18</td>\n",
       "    </tr>\n",
       "    <tr>\n",
       "      <td>TIME_CLIENT</td>\n",
       "      <td>1.2</td>\n",
       "      <td>2.7</td>\n",
       "      <td>2.6</td>\n",
       "      <td>2.5</td>\n",
       "      <td>2.4</td>\n",
       "    </tr>\n",
       "    <tr>\n",
       "      <td>AVERAGE_CALL_DURATION</td>\n",
       "      <td>15</td>\n",
       "      <td>4</td>\n",
       "      <td>4</td>\n",
       "      <td>12</td>\n",
       "      <td>10</td>\n",
       "    </tr>\n",
       "    <tr>\n",
       "      <td>REPORTED_SATISFACTION</td>\n",
       "      <td>very_unsat</td>\n",
       "      <td>unsat</td>\n",
       "      <td>avg</td>\n",
       "      <td>unsat</td>\n",
       "      <td>very_unsat</td>\n",
       "    </tr>\n",
       "    <tr>\n",
       "      <td>REPORTED_USAGE_LEVEL</td>\n",
       "      <td>little</td>\n",
       "      <td>little</td>\n",
       "      <td>very_little</td>\n",
       "      <td>very_high</td>\n",
       "      <td>little</td>\n",
       "    </tr>\n",
       "    <tr>\n",
       "      <td>CONSIDERING_CHANGE_OF_PLAN</td>\n",
       "      <td>considering</td>\n",
       "      <td>considering</td>\n",
       "      <td>considering</td>\n",
       "      <td>considering</td>\n",
       "      <td>actively_looking_into_it</td>\n",
       "    </tr>\n",
       "    <tr>\n",
       "      <td>CHURNED</td>\n",
       "      <td>STAY</td>\n",
       "      <td>LEAVE</td>\n",
       "      <td>STAY</td>\n",
       "      <td>LEAVE</td>\n",
       "      <td>LEAVE</td>\n",
       "    </tr>\n",
       "  </tbody>\n",
       "</table>\n",
       "</div>"
      ],
      "text/plain": [
       "                                       0            1            2  \\\n",
       "CUSTOMER_ID                      C100000      C100001      C100006   \n",
       "COLLEGE                             zero          one         zero   \n",
       "DATA                                 660      317.647      208.696   \n",
       "INCOME                             19995        31477        66742   \n",
       "OVERCHARGE                             0          155            0   \n",
       "LEFTOVER                               0           15           13   \n",
       "HOUSE                             897338       393396       937197   \n",
       "LESSTHAN600k                       False         True        False   \n",
       "CHILD                                  4            0            4   \n",
       "JOB_CLASS                              3            1            2   \n",
       "REVENUE                              160          100          127   \n",
       "HANDSET_PRICE                        155          245          493   \n",
       "OVER_15MINS_CALLS_PER_MONTH            1           27           20   \n",
       "TIME_CLIENT                          1.2          2.7          2.6   \n",
       "AVERAGE_CALL_DURATION                 15            4            4   \n",
       "REPORTED_SATISFACTION         very_unsat        unsat          avg   \n",
       "REPORTED_USAGE_LEVEL              little       little  very_little   \n",
       "CONSIDERING_CHANGE_OF_PLAN   considering  considering  considering   \n",
       "CHURNED                             STAY        LEAVE         STAY   \n",
       "\n",
       "                                       3                         4  \n",
       "CUSTOMER_ID                      C100008                   C100010  \n",
       "COLLEGE                             zero                       one  \n",
       "DATA                             265.018                       440  \n",
       "INCOME                             40864                   43321.5  \n",
       "OVERCHARGE                           183                       200  \n",
       "LEFTOVER                               0                         0  \n",
       "HOUSE                             986430                    394622  \n",
       "LESSTHAN600k                       False                      True  \n",
       "CHILD                                  3                         2  \n",
       "JOB_CLASS                              3                         3  \n",
       "REVENUE                               86                        77  \n",
       "HANDSET_PRICE                        390                       175  \n",
       "OVER_15MINS_CALLS_PER_MONTH           13                        18  \n",
       "TIME_CLIENT                          2.5                       2.4  \n",
       "AVERAGE_CALL_DURATION                 12                        10  \n",
       "REPORTED_SATISFACTION              unsat                very_unsat  \n",
       "REPORTED_USAGE_LEVEL           very_high                    little  \n",
       "CONSIDERING_CHANGE_OF_PLAN   considering  actively_looking_into_it  \n",
       "CHURNED                            LEAVE                     LEAVE  "
      ]
     },
     "execution_count": 4,
     "metadata": {},
     "output_type": "execute_result"
    }
   ],
   "source": [
    "data.head().T"
   ]
  },
  {
   "cell_type": "code",
   "execution_count": 5,
   "metadata": {},
   "outputs": [
    {
     "data": {
      "text/plain": [
       "CUSTOMER_ID                     object\n",
       "COLLEGE                         object\n",
       "DATA                           float64\n",
       "INCOME                         float64\n",
       "OVERCHARGE                       int64\n",
       "LEFTOVER                         int64\n",
       "HOUSE                          float64\n",
       "LESSTHAN600k                    object\n",
       "CHILD                            int64\n",
       "JOB_CLASS                        int64\n",
       "REVENUE                        float64\n",
       "HANDSET_PRICE                    int64\n",
       "OVER_15MINS_CALLS_PER_MONTH      int64\n",
       "TIME_CLIENT                    float64\n",
       "AVERAGE_CALL_DURATION            int64\n",
       "REPORTED_SATISFACTION           object\n",
       "REPORTED_USAGE_LEVEL            object\n",
       "CONSIDERING_CHANGE_OF_PLAN      object\n",
       "CHURNED                         object\n",
       "dtype: object"
      ]
     },
     "execution_count": 5,
     "metadata": {},
     "output_type": "execute_result"
    }
   ],
   "source": [
    "data.dtypes"
   ]
  },
  {
   "cell_type": "markdown",
   "metadata": {},
   "source": [
    "### 2.1 The data description\n",
    "\n",
    "* CUSTOMER_ID: A unique customer identifier (categorical)\n",
    "* COLLEGE: (one or zero), is the customer college educated ? (categorical)\n",
    "* DATA: Monthly data consumption in Mo (numerical)\n",
    "* INCOME: Annual salary of the client (numerical)\n",
    "* OVERCHARGE:Average overcharge per year (numerical)\n",
    "* LEFTOVER: Average number of leftover minutes per month (numerical)\n",
    "* HOUSE: Estimated value of the house (numerical)\n",
    "* LESSTHAN600k: Is the value of the house smaller than 600K ? (catagorical)\n",
    "* CHILD: The number of children (numerical)\n",
    "* JOB_CLASS: Self reported type of job (categorical)\n",
    "* REVENUE: Annual phone bill (numerical)\n",
    "* HANDSET_PRICE: The price of the handset (phone) (numerical)\n",
    "* OVER_15MINS_CALLS_PER_MONTH: Average number of long calls (more than 15 minutes) (numerical)\n",
    "* TIME_CLIENT: The tenure in year (numerical)\n",
    "* AVERAGE_CALL_DURATION: The average duration of a call (numerical)\n",
    "* REPORTED_SATISFACTION: The reported level of satisfaction (categorical)\n",
    "* REPORTED_USAGE_LEVEL: The self reported usage level (categorical)\n",
    "* CONSIDERING_CHANGE_OF_PLAN: Self reported consideration whether to change operator (categorical)\n",
    "* CHURNED: Did the customer stay or leave. This is the class (categorical)"
   ]
  },
  {
   "cell_type": "markdown",
   "metadata": {},
   "source": [
    "### 2.2 The data quality\n",
    "\n",
    "Before starting any analysis, it's important to guarantee the quality of the data. Especially, we are going to check if there are missing values:"
   ]
  },
  {
   "cell_type": "code",
   "execution_count": 6,
   "metadata": {},
   "outputs": [
    {
     "data": {
      "text/plain": [
       "CUSTOMER_ID                      0\n",
       "COLLEGE                          0\n",
       "DATA                             0\n",
       "INCOME                           0\n",
       "OVERCHARGE                       0\n",
       "LEFTOVER                         0\n",
       "HOUSE                          635\n",
       "LESSTHAN600k                   635\n",
       "CHILD                            0\n",
       "JOB_CLASS                        0\n",
       "REVENUE                          0\n",
       "HANDSET_PRICE                    0\n",
       "OVER_15MINS_CALLS_PER_MONTH      0\n",
       "TIME_CLIENT                      0\n",
       "AVERAGE_CALL_DURATION            0\n",
       "REPORTED_SATISFACTION            0\n",
       "REPORTED_USAGE_LEVEL             0\n",
       "CONSIDERING_CHANGE_OF_PLAN       0\n",
       "CHURNED                          0\n",
       "dtype: int64"
      ]
     },
     "execution_count": 6,
     "metadata": {},
     "output_type": "execute_result"
    }
   ],
   "source": [
    "data.isna().sum()"
   ]
  },
  {
   "cell_type": "markdown",
   "metadata": {},
   "source": [
    "There are 2 variables with missing values: HOUSE (the house value) and the LESSTHAN600K (is the house value smaller or higher tha 600K ?). \n",
    " \n",
    "\n",
    "__What is the type of the missing values ?__"
   ]
  },
  {
   "cell_type": "code",
   "execution_count": 7,
   "metadata": {},
   "outputs": [
    {
     "data": {
      "text/plain": [
       "100.0"
      ]
     },
     "execution_count": 7,
     "metadata": {},
     "output_type": "execute_result"
    }
   ],
   "source": [
    "# We retain only rows with missing values for the variable HOUSE\n",
    "dataNa = data[data['HOUSE'].isna()]\n",
    "lessthan600k = dataNa['LESSTHAN600k']\n",
    "\n",
    "# The percentage of missing values in the column LESSTHAN600K\n",
    "100*lessthan600k.isna().sum()/lessthan600k.shape[0]"
   ]
  },
  {
   "cell_type": "markdown",
   "metadata": {},
   "source": [
    "The variable __LESSTHAN600K__ has missing values because the house were not evaluated (The value of __HOUSE__ is missing).\n",
    "\n",
    "Let's evaluate the percentage of missing values in the whole data set:"
   ]
  },
  {
   "cell_type": "code",
   "execution_count": 8,
   "metadata": {},
   "outputs": [
    {
     "data": {
      "text/plain": [
       "5.3000584258409145"
      ]
     },
     "execution_count": 8,
     "metadata": {},
     "output_type": "execute_result"
    }
   ],
   "source": [
    "100*lessthan600k.shape[0]/data.shape[0]"
   ]
  },
  {
   "cell_type": "markdown",
   "metadata": {},
   "source": [
    "There are only __5.3%__ of rows with a missing value.\n",
    "\n",
    "Instead of deleting the rows with missing values, I choose to impute the missing values of the variable __HOUSE__ with the __median__. \n",
    "\n",
    "The best solution to handle these missing values is to order an evaluation of that dwelings."
   ]
  },
  {
   "cell_type": "code",
   "execution_count": 9,
   "metadata": {},
   "outputs": [],
   "source": [
    "data['HOUSE'] = data['HOUSE'].fillna(data['HOUSE'].median())\n",
    "data['LESSTHAN600k'] = np.where(data['HOUSE'] < 600000, 'True', 'False')"
   ]
  },
  {
   "cell_type": "code",
   "execution_count": 10,
   "metadata": {},
   "outputs": [
    {
     "data": {
      "text/plain": [
       "CUSTOMER_ID                    0\n",
       "COLLEGE                        0\n",
       "DATA                           0\n",
       "INCOME                         0\n",
       "OVERCHARGE                     0\n",
       "LEFTOVER                       0\n",
       "HOUSE                          0\n",
       "LESSTHAN600k                   0\n",
       "CHILD                          0\n",
       "JOB_CLASS                      0\n",
       "REVENUE                        0\n",
       "HANDSET_PRICE                  0\n",
       "OVER_15MINS_CALLS_PER_MONTH    0\n",
       "TIME_CLIENT                    0\n",
       "AVERAGE_CALL_DURATION          0\n",
       "REPORTED_SATISFACTION          0\n",
       "REPORTED_USAGE_LEVEL           0\n",
       "CONSIDERING_CHANGE_OF_PLAN     0\n",
       "CHURNED                        0\n",
       "dtype: int64"
      ]
     },
     "execution_count": 10,
     "metadata": {},
     "output_type": "execute_result"
    }
   ],
   "source": [
    "data.isna().sum()"
   ]
  },
  {
   "cell_type": "markdown",
   "metadata": {},
   "source": [
    "Let's convert each variable in the appropriate data type:"
   ]
  },
  {
   "cell_type": "code",
   "execution_count": 11,
   "metadata": {},
   "outputs": [],
   "source": [
    "data['CUSTOMER_ID'] = pd.Categorical(data['CUSTOMER_ID'])\n",
    "data['COLLEGE'] = pd.Categorical(data['COLLEGE'])\n",
    "data['LESSTHAN600k'] = pd.Categorical(data['LESSTHAN600k'])\n",
    "data['JOB_CLASS'] = pd.Categorical(data['JOB_CLASS'])\n",
    "data['REPORTED_SATISFACTION'] = pd.Categorical(data['REPORTED_SATISFACTION'])\n",
    "data['REPORTED_USAGE_LEVEL'] = pd.Categorical(data['REPORTED_USAGE_LEVEL'])\n",
    "data['CONSIDERING_CHANGE_OF_PLAN'] = pd.Categorical(data['CONSIDERING_CHANGE_OF_PLAN'])\n",
    "data['CHURNED'] = pd.Categorical(data['CHURNED'])"
   ]
  },
  {
   "cell_type": "markdown",
   "metadata": {},
   "source": [
    "## 3. __Data exploratory analysis__\n",
    "\n",
    "Before the modeling, it's important to dive deep inside the data, to highlith the link or correlation between varaiables.\n",
    "\n",
    "### 3.1 The class variable exploration (CHURNED)\n",
    "\n",
    "First, we check if the data is unbalanced:"
   ]
  },
  {
   "cell_type": "code",
   "execution_count": 12,
   "metadata": {},
   "outputs": [],
   "source": [
    "import matplotlib.pyplot as plt\n",
    "import seaborn as sns\n",
    "\n",
    "sns.catplot(x=\"CHURNED\", kind=\"count\", palette=\"ch:.25\", data=data);"
   ]
  },
  {
   "cell_type": "code",
   "execution_count": 13,
   "metadata": {},
   "outputs": [
    {
     "name": "stdout",
     "output_type": "stream",
     "text": [
      "STAY percentage:  63.53 %\n",
      "LEAVE percentage:  36.47 %\n"
     ]
    }
   ],
   "source": [
    "stay = data[data['CHURNED'] == 'STAY'].shape\n",
    "\n",
    "percent  = stay[0]*100/data.shape[0]\n",
    "print(\"STAY percentage: \", round(percent,2),'%')\n",
    "print(\"LEAVE percentage: \", round(100-percent,2),'%')"
   ]
  },
  {
   "cell_type": "markdown",
   "metadata": {},
   "source": [
    "The data is __unbalanced__. The main risk is to build an overfitted model. To avoid this, the training data will be created with a stratify partionning."
   ]
  },
  {
   "cell_type": "markdown",
   "metadata": {},
   "source": [
    "### 3.2 Numeric variables"
   ]
  },
  {
   "cell_type": "code",
   "execution_count": 14,
   "metadata": {},
   "outputs": [
    {
     "data": {
      "image/png": "[encoded data removed]",
      "text/plain": [
       "<Figure size 1080x576 with 3 Axes>"
      ]
     },
     "metadata": {
      "needs_background": "light"
     },
     "output_type": "display_data"
    }
   ],
   "source": [
    "fig, (ax1, ax2, ax3) = plt.subplots(1,3,figsize=(15,8))\n",
    "sns.set(style=\"ticks\", color_codes=True)\n",
    "\n",
    "sns.boxplot(x=\"CHURNED\", y=\"REVENUE\", data=data,  ax=ax1)\n",
    "sns.boxplot(x=\"CHURNED\", y=\"OVERCHARGE\", data=data, ax=ax2);\n",
    "sns.boxplot(x=\"CHURNED\", y=\"HANDSET_PRICE\",  data=data, ax=ax3);"
   ]
  },
  {
   "cell_type": "markdown",
   "metadata": {},
   "source": [
    "The first boxplot shows that, there is not a difference for the revenue (the median), customers who leave or stay are similar (in termes of phone bill).\n",
    "\n",
    "The second shows, customers who leave are more overcharged (the median) than customers who stays.\n",
    "\n",
    "The handset of customers who leave are more expensive than the ones of people who stay."
   ]
  },
  {
   "cell_type": "code",
   "execution_count": 15,
   "metadata": {},
   "outputs": [
    {
     "data": {
      "image/png": "[encoded data removed]",
      "text/plain": [
       "<Figure size 1368x1080 with 2 Axes>"
      ]
     },
     "metadata": {},
     "output_type": "display_data"
    }
   ],
   "source": [
    "dataNumeric = data.select_dtypes(exclude='category')\n",
    "numericCorr = dataNumeric.corr(method='pearson')\n",
    "f= plt.figure(figsize=(19, 15))\n",
    "plt.matshow(numericCorr, fignum=f.number)\n",
    "plt.xticks(range(dataNumeric.shape[1]), dataNumeric.columns, fontsize=14, rotation=45)\n",
    "plt.yticks(range(dataNumeric.shape[1]), dataNumeric.columns, fontsize=14)\n",
    "cb = plt.colorbar()\n",
    "cb.ax.tick_params(labelsize=14)\n",
    "plt.title('Correlation Matrix', fontsize=16);\n",
    "plt.show()"
   ]
  },
  {
   "cell_type": "markdown",
   "metadata": {},
   "source": [
    "We can draw some observations according to the table above:\n",
    "There is a strong correlation between:\n",
    "\n",
    "* __HANDSET_PRICE__ and __INCOME__\n",
    "* __OVERCHARGE__ and __OVER_15MINS_CALLS_PER_MONTH__ (average number of long calls)\n"
   ]
  },
  {
   "cell_type": "markdown",
   "metadata": {},
   "source": [
    "### 3.3 Categorical variables\n",
    "\n",
    "The __Multiple Component Analysis (ACM)__ is a categorical data analysis method. The method is based on the factorial analysis principles. The goal is to find the main directions that maximizes the variance in the data"
   ]
  },
  {
   "cell_type": "code",
   "execution_count": 16,
   "metadata": {},
   "outputs": [
    {
     "data": {
      "text/html": [
       "<div>\n",
       "<style scoped>\n",
       "    .dataframe tbody tr th:only-of-type {\n",
       "        vertical-align: middle;\n",
       "    }\n",
       "\n",
       "    .dataframe tbody tr th {\n",
       "        vertical-align: top;\n",
       "    }\n",
       "\n",
       "    .dataframe thead th {\n",
       "        text-align: right;\n",
       "    }\n",
       "</style>\n",
       "<table border=\"1\" class=\"dataframe\">\n",
       "  <thead>\n",
       "    <tr style=\"text-align: right;\">\n",
       "      <th></th>\n",
       "      <th>count</th>\n",
       "      <th>unique</th>\n",
       "      <th>top</th>\n",
       "      <th>freq</th>\n",
       "    </tr>\n",
       "  </thead>\n",
       "  <tbody>\n",
       "    <tr>\n",
       "      <td>COLLEGE</td>\n",
       "      <td>11981</td>\n",
       "      <td>2</td>\n",
       "      <td>zero</td>\n",
       "      <td>6012</td>\n",
       "    </tr>\n",
       "    <tr>\n",
       "      <td>LESSTHAN600k</td>\n",
       "      <td>11981</td>\n",
       "      <td>2</td>\n",
       "      <td>True</td>\n",
       "      <td>7788</td>\n",
       "    </tr>\n",
       "    <tr>\n",
       "      <td>JOB_CLASS</td>\n",
       "      <td>11981</td>\n",
       "      <td>4</td>\n",
       "      <td>4</td>\n",
       "      <td>3045</td>\n",
       "    </tr>\n",
       "    <tr>\n",
       "      <td>REPORTED_SATISFACTION</td>\n",
       "      <td>11981</td>\n",
       "      <td>5</td>\n",
       "      <td>very_unsat</td>\n",
       "      <td>5397</td>\n",
       "    </tr>\n",
       "    <tr>\n",
       "      <td>REPORTED_USAGE_LEVEL</td>\n",
       "      <td>11981</td>\n",
       "      <td>5</td>\n",
       "      <td>little</td>\n",
       "      <td>4693</td>\n",
       "    </tr>\n",
       "    <tr>\n",
       "      <td>CONSIDERING_CHANGE_OF_PLAN</td>\n",
       "      <td>11981</td>\n",
       "      <td>5</td>\n",
       "      <td>considering</td>\n",
       "      <td>4981</td>\n",
       "    </tr>\n",
       "    <tr>\n",
       "      <td>CHURNED</td>\n",
       "      <td>11981</td>\n",
       "      <td>2</td>\n",
       "      <td>STAY</td>\n",
       "      <td>7612</td>\n",
       "    </tr>\n",
       "  </tbody>\n",
       "</table>\n",
       "</div>"
      ],
      "text/plain": [
       "                            count unique          top  freq\n",
       "COLLEGE                     11981      2         zero  6012\n",
       "LESSTHAN600k                11981      2         True  7788\n",
       "JOB_CLASS                   11981      4            4  3045\n",
       "REPORTED_SATISFACTION       11981      5   very_unsat  5397\n",
       "REPORTED_USAGE_LEVEL        11981      5       little  4693\n",
       "CONSIDERING_CHANGE_OF_PLAN  11981      5  considering  4981\n",
       "CHURNED                     11981      2         STAY  7612"
      ]
     },
     "execution_count": 16,
     "metadata": {},
     "output_type": "execute_result"
    }
   ],
   "source": [
    "dataCat = data.select_dtypes(include='category')\n",
    "del dataCat['CUSTOMER_ID']\n",
    "dataCat.describe().T"
   ]
  },
  {
   "cell_type": "code",
   "execution_count": 17,
   "metadata": {},
   "outputs": [
    {
     "data": {
      "text/plain": [
       "<matplotlib.axes._subplots.AxesSubplot at 0x7f137394cf50>"
      ]
     },
     "execution_count": 17,
     "metadata": {},
     "output_type": "execute_result"
    },
    {
     "data": {
      "image/png": "[encoded data removed]",
      "text/plain": [
       "<Figure size 1080x720 with 6 Axes>"
      ]
     },
     "metadata": {},
     "output_type": "display_data"
    }
   ],
   "source": [
    "fig = plt.figure(figsize = (15,10))\n",
    "\n",
    "ax1 = fig.add_subplot(2,3,1)\n",
    "sns.countplot(data = dataCat, x = 'COLLEGE', ax=ax1)\n",
    "\n",
    "ax2 = fig.add_subplot(2,3,2)\n",
    "sns.countplot(data = dataCat, x = 'LESSTHAN600k', ax=ax2)\n",
    "\n",
    "ax3 = fig.add_subplot(2,3,3)\n",
    "sns.countplot(data = dataCat, x = 'JOB_CLASS', ax=ax3)\n",
    "\n",
    "ax4 = fig.add_subplot(2,3,4)\n",
    "sns.countplot(data = dataCat, x = 'CONSIDERING_CHANGE_OF_PLAN' , ax=ax4)\n",
    "\n",
    "ax5 = fig.add_subplot(2,3,5)\n",
    "sns.countplot(data = dataCat, x = 'REPORTED_SATISFACTION', ax=ax5)\n",
    "\n",
    "ax6 = fig.add_subplot(2,3,6)\n",
    "sns.countplot(data = dataCat, x = 'REPORTED_USAGE_LEVEL', ax=ax6)"
   ]
  },
  {
   "cell_type": "markdown",
   "metadata": {},
   "source": [
    "There are the same number of customers who went to college and those who were not. \n",
    "Is there any link between the customers who leaves and those who went or not to college ? \n",
    "\n",
    "* Independance test (or __Chi Square test__) between __CONSIDERING_CHANGE_OF_PLAN__ and __LESSTHAN600k__: \n",
    "\n",
    "Ho: The variables __CONSIDERING_CHANGE_OF_PLAN__ and __LESSTHAN600k__ are indenpendant\n",
    "\n",
    "Ha: The variables are linked\n"
   ]
  },
  {
   "cell_type": "code",
   "execution_count": 18,
   "metadata": {},
   "outputs": [],
   "source": [
    "from scipy.stats import chi2_contingency\n",
    "\n",
    "def chi2Test(contengencyTable):\n",
    "    chi2, pvalue, dof, expected = chi2_contingency(contengencyTable)\n",
    "    print(\"X-squered:\", chi2, \"p-Value:\",pvalue, \"degrees of freedom:\", dof)"
   ]
  },
  {
   "cell_type": "code",
   "execution_count": 19,
   "metadata": {},
   "outputs": [
    {
     "name": "stdout",
     "output_type": "stream",
     "text": [
      "X-squered: 11.937731802723693 p-Value: 0.01782036452403984 degrees of freedom: 4\n"
     ]
    }
   ],
   "source": [
    "observedData = pd.crosstab(dataCat['CONSIDERING_CHANGE_OF_PLAN'], dataCat['LESSTHAN600k'], margins=False)\n",
    "chi2Test(observedData)"
   ]
  },
  {
   "cell_type": "markdown",
   "metadata": {},
   "source": [
    "As the __p-Value__ is less than 0.05, then we rejet the null hypothesis (Ho). There is a link (a correlation) between __CONSIDERING_CHANGE_OF_PLAN__ and __LESSTHAN600k__.\n",
    "\n",
    "* What about the link between __REPORTED_SATISFACTION__ and __REPORTED_SATISFACTION__ ?"
   ]
  },
  {
   "cell_type": "code",
   "execution_count": 20,
   "metadata": {},
   "outputs": [
    {
     "name": "stdout",
     "output_type": "stream",
     "text": [
      "X-squered: 31.628793930123376 p-Value: 0.011172192519596967 degrees of freedom: 16\n"
     ]
    }
   ],
   "source": [
    "observedData = pd.crosstab(dataCat['REPORTED_USAGE_LEVEL'], dataCat['REPORTED_SATISFACTION'], margins=False)\n",
    "chi2Test(observedData)"
   ]
  },
  {
   "cell_type": "markdown",
   "metadata": {},
   "source": [
    "The __p-Value__ is less than 0.05. We can rejet the hypothesis that, __REPORTED_USAGE_LEVEL__ and __REPORTED_SATISFACTION__ are independant. That means there is a link between __REPORTED_USAGE_LEVEL__ and __REPORTED_SATISFACTION__"
   ]
  },
  {
   "cell_type": "markdown",
   "metadata": {},
   "source": [
    "### 3.3 Data exploratory analysis conclusion\n",
    "\n",
    "The data exploratory analysis highlights the main features of the data. We are aware of that:\n",
    "\n",
    "* The class (CHURNED) is unbalanced: We need to use stratified partinning and stratified cross-validation\n",
    "* The are correlations between certain numerical variables and there links between certain categorical variables"
   ]
  },
  {
   "cell_type": "markdown",
   "metadata": {},
   "source": [
    "## 4. Modeling\n",
    "\n",
    "In this part, we are going to train many machine learning models. Here are the steps we are going to follow:\n",
    "\n",
    "* Data partioning: We are going split data in 3 parts. The training data (for model training), the test data (for model testing) and the validation data (for model comparison)\n",
    "* The training and testing of machine learning models: We will be using the cross-validation with folds\n",
    "* The validation and selection of the best model based on the Air Under Curve of the ROC curve"
   ]
  },
  {
   "cell_type": "markdown",
   "metadata": {},
   "source": [
    "### 4.1 The data sampling\n",
    "\n",
    "We mentionned that, the class (CHURNED) was unbalanced. We use the __stratify sampling__ to maintain the two subgroups (LEAVE and STAY) in all partion."
   ]
  },
  {
   "cell_type": "code",
   "execution_count": 21,
   "metadata": {},
   "outputs": [
    {
     "name": "stdout",
     "output_type": "stream",
     "text": [
      "The training sample:  (7188, 34)\n",
      "The test sample:  (3355, 34)\n",
      "The validation sample:  (1438, 34)\n"
     ]
    }
   ],
   "source": [
    "from sklearn.model_selection import train_test_split\n",
    "\n",
    "dataset = data.copy()\n",
    "del dataset['CUSTOMER_ID']\n",
    "\n",
    "predictors = dataset.loc[:, dataset.columns != 'CHURNED']\n",
    "\n",
    "#categorical data encoding (one hot)\n",
    "predictors = pd.get_dummies(predictors)\n",
    "\n",
    "#Retain only values\n",
    "X    = predictors.values\n",
    "\n",
    "outcome      = dataset.loc[:, dataset.columns == 'CHURNED']\n",
    "outcome  = pd.get_dummies(outcome)\n",
    "\n",
    "# 1=LEAVE and 0 = STAY\n",
    "Y         = outcome[\"CHURNED_LEAVE\"]\n",
    "\n",
    "# The training sample is 60% of the dataset\n",
    "X_train, XVal_test, y_train, yval_test = train_test_split(X, Y, test_size=0.4, stratify=Y)\n",
    "\n",
    "#The test sample is 70% of the remaining 40% (= 0.7*0.4=28% of the initial dataset) \n",
    "X_test, X_val, y_test, y_val = train_test_split(XVal_test, yval_test, test_size=0.3, stratify=yval_test)\n",
    "\n",
    "print(\"The training sample: \", X_train.shape)\n",
    "print(\"The test sample: \",X_test.shape)\n",
    "print(\"The validation sample: \",X_val.shape)"
   ]
  },
  {
   "cell_type": "markdown",
   "metadata": {},
   "source": [
    "### 4.2 The models training\n",
    "\n",
    "We are going to use many families of models. When there correlations or links between predictors some methods will underperform (linear methods especially). These are the methods we will be training:\n",
    "\n",
    "* Logistic regression: Linear method, easy to train, will be used to compare others methods\n",
    "* Gradient boosting\n",
    "* The decision tree\n",
    "* Random Forest\n",
    "* Support vector machine (SVM)\n",
    "* Multi layer perceptron\n",
    "\n",
    "For this methods, we will perform the hyper parameters searching with a __Grid search__ and training the models using a cross validation.\n",
    "\n",
    "Cross validation parameters:"
   ]
  },
  {
   "cell_type": "code",
   "execution_count": 22,
   "metadata": {},
   "outputs": [],
   "source": [
    "from sklearn.model_selection import KFold\n",
    "from sklearn.model_selection import GridSearchCV\n",
    "from sklearn import metrics\n",
    "from sklearn.metrics import roc_curve\n",
    "from sklearn.metrics import roc_auc_score\n",
    "\n",
    "CrossValidationFolds = np.array([5, 7, 10, 13, 16, 20])"
   ]
  },
  {
   "cell_type": "code",
   "execution_count": 23,
   "metadata": {},
   "outputs": [],
   "source": [
    "def myGridSearch(model, grid_params, kfolds, trainX, trainY, testX, testY):\n",
    "    if model is None or kfolds is None:\n",
    "        return\n",
    "    \n",
    "    BestTrainScore = list()\n",
    "    TestScores = list()\n",
    "    TestScoresStd = list()\n",
    "    auc    = list()\n",
    "    BestParams  = list()\n",
    "    maxAuc    = 0\n",
    "    bestModel = model\n",
    "    \n",
    "    # We have many draws:\n",
    "    for k in kfolds:\n",
    "        # Model building with a k number of Folds\n",
    "        gridModel = GridSearchCV(model, grid_params,error_score='raise', cv=k)\n",
    "        gridModel.fit(trainX, trainY)\n",
    "        \n",
    "      \n",
    "        BestTrainScore.append(gridModel.best_score_)\n",
    "        TestScores.append(gridModel.score(testX, testY))\n",
    "        \n",
    "        # ROC curve and AUC\n",
    "        predictions = gridModel.predict(testX)\n",
    "        thisAuc = roc_auc_score(testY,predictions)\n",
    "        auc.append(thisAuc)\n",
    "        \n",
    "        #We retain the best model = the highest AUC\n",
    "        if thisAuc > maxAuc:\n",
    "            bestModel = gridModel\n",
    "            maxAuc = thisAuc\n",
    "    \n",
    "    #Display the results in a graphic\n",
    "    fig, ax = plt.subplots()\n",
    "    ax.plot(kfolds, BestTrainScore, 'b--', label='Train score')\n",
    "    ax.plot(kfolds, TestScores, 'r--', label='Test scores')\n",
    "    ax.plot(kfolds, auc, 'g--', label='AUC')\n",
    "    leg = ax.legend();\n",
    "    \n",
    "    print(\"Mean train score: %0.2f\"%np.mean(BestTrainScore), \n",
    "          \" / STD train score: %0.2f\"% np.std(BestTrainScore), \n",
    "          \" / Max train score: %0.2f\"% np.max(BestTrainScore),\n",
    "          \" / Min train score: %0.2f\"% np.min(BestTrainScore))\n",
    "    print(\"Mean test score: %0.2f\"%np.mean(TestScores), \n",
    "          \" / STD test score: %0.2f\"% np.std(TestScores), \n",
    "          \" / Max test score: %0.2f\"% np.max(TestScores), \n",
    "          \" / Min test score: %0.2f\"% np.min(TestScores))\n",
    "    print(\"Mean AUC: %0.2f\"% np.mean(auc), \n",
    "          \" / Std AUC: %0.2f\"% np.std(auc), \n",
    "          \" / Max AUC: %0.2f\"% maxAuc, \n",
    "          \" / Min AUC: %0.2f\"% np.min(auc))\n",
    "    \n",
    "    return bestModel"
   ]
  },
  {
   "cell_type": "markdown",
   "metadata": {},
   "source": [
    "*  __The Logistic regression__"
   ]
  },
  {
   "cell_type": "code",
   "execution_count": 24,
   "metadata": {},
   "outputs": [
    {
     "name": "stderr",
     "output_type": "stream",
     "text": [
      "/home/yefangon/anaconda3/lib/python3.7/site-packages/sklearn/svm/base.py:929: ConvergenceWarning: Liblinear failed to converge, increase the number of iterations.\n",
      "  \"the number of iterations.\", ConvergenceWarning)\n",
      "/home/yefangon/anaconda3/lib/python3.7/site-packages/sklearn/svm/base.py:929: ConvergenceWarning: Liblinear failed to converge, increase the number of iterations.\n",
      "  \"the number of iterations.\", ConvergenceWarning)\n",
      "/home/yefangon/anaconda3/lib/python3.7/site-packages/sklearn/svm/base.py:929: ConvergenceWarning: Liblinear failed to converge, increase the number of iterations.\n",
      "  \"the number of iterations.\", ConvergenceWarning)\n",
      "/home/yefangon/anaconda3/lib/python3.7/site-packages/sklearn/svm/base.py:929: ConvergenceWarning: Liblinear failed to converge, increase the number of iterations.\n",
      "  \"the number of iterations.\", ConvergenceWarning)\n",
      "/home/yefangon/anaconda3/lib/python3.7/site-packages/sklearn/svm/base.py:929: ConvergenceWarning: Liblinear failed to converge, increase the number of iterations.\n",
      "  \"the number of iterations.\", ConvergenceWarning)\n",
      "/home/yefangon/anaconda3/lib/python3.7/site-packages/sklearn/svm/base.py:929: ConvergenceWarning: Liblinear failed to converge, increase the number of iterations.\n",
      "  \"the number of iterations.\", ConvergenceWarning)\n"
     ]
    },
    {
     "name": "stdout",
     "output_type": "stream",
     "text": [
      "Mean train score: 0.68  / STD train score: 0.00  / Max train score: 0.68  / Min train score: 0.68\n",
      "Mean test score: 0.69  / STD test score: 0.00  / Max test score: 0.70  / Min test score: 0.69\n",
      "Mean AUC: 0.63  / Std AUC: 0.00  / Max AUC: 0.64  / Min AUC: 0.63\n",
      "The best hyper parameters values:  {'C': 0.001, 'max_iter': 100, 'tol': 1e-05}\n"
     ]
    },
    {
     "data": {
      "image/png": "[encoded data removed]",
      "text/plain": [
       "<Figure size 432x288 with 1 Axes>"
      ]
     },
     "metadata": {},
     "output_type": "display_data"
    }
   ],
   "source": [
    "from sklearn.linear_model import LogisticRegression\n",
    "import pickle\n",
    "\n",
    "grid_params = {\n",
    "    'C': [0.001, 0.005, 0.01, 0.05, 1,1.5],\n",
    "    'tol': [1e-5,1e-4,1e-3,1e-2,1e-1],\n",
    "    \"max_iter\": [50,100,200,300]\n",
    "}\n",
    "\n",
    "lr = LogisticRegression(solver = 'liblinear',verbose=0)\n",
    "modelLR = myGridSearch(lr, grid_params, CrossValidationFolds, X_train, y_train, X_test, y_test)\n",
    "print(\"The best hyper parameters values: \", modelLR.best_params_)\n",
    "\n",
    "fpickle = open('modelLR.pkl', 'wb')\n",
    "pickle.dump(modelLR, fpickle)\n"
   ]
  },
  {
   "cell_type": "markdown",
   "metadata": {},
   "source": [
    "* __The gradient boosting__"
   ]
  },
  {
   "cell_type": "code",
   "execution_count": 25,
   "metadata": {},
   "outputs": [
    {
     "name": "stdout",
     "output_type": "stream",
     "text": [
      "Mean train score: 0.79  / STD train score: 0.00  / Max train score: 0.79  / Min train score: 0.79\n",
      "Mean test score: 0.79  / STD test score: 0.00  / Max test score: 0.79  / Min test score: 0.79\n",
      "Mean AUC: 0.76  / Std AUC: 0.00  / Max AUC: 0.76  / Min AUC: 0.75\n",
      "The best hyper parameters values:  {'learning_rate': 0.1, 'loss': 'exponential', 'max_depth': 5, 'n_estimators': 300}\n"
     ]
    },
    {
     "data": {
      "image/png": "[encoded data removed]",
      "text/plain": [
       "<Figure size 432x288 with 1 Axes>"
      ]
     },
     "metadata": {},
     "output_type": "display_data"
    }
   ],
   "source": [
    "from sklearn.ensemble import GradientBoostingClassifier\n",
    "\n",
    "grid_params = {\n",
    "    'loss': ['deviance', 'exponential'],\n",
    "    'learning_rate': [0.001,0.1],\n",
    "    \"n_estimators\": [100,200,300],\n",
    "    \"max_depth\": [3,5,10]\n",
    "}\n",
    "\n",
    "gb = GradientBoostingClassifier(verbose=0)\n",
    "modelGB = myGridSearch(gb, grid_params, CrossValidationFolds, X_train, y_train, X_test, y_test)\n",
    "print(\"The best hyper parameters values: \", modelGB.best_params_)\n",
    "\n",
    "fpickle = open('modelGB.pkl', 'wb')\n",
    "pickle.dump(modelGB, fpickle)"
   ]
  },
  {
   "cell_type": "markdown",
   "metadata": {},
   "source": [
    "* __The decision tree__"
   ]
  },
  {
   "cell_type": "code",
   "execution_count": 26,
   "metadata": {},
   "outputs": [
    {
     "name": "stdout",
     "output_type": "stream",
     "text": [
      "Mean train score: 0.73  / STD train score: 0.00  / Max train score: 0.74  / Min train score: 0.73\n",
      "Mean test score: 0.73  / STD test score: 0.00  / Max test score: 0.74  / Min test score: 0.73\n",
      "Mean AUC: 0.71  / Std AUC: 0.00  / Max AUC: 0.71  / Min AUC: 0.70\n",
      "The best hyper parameters values:  {'criterion': 'gini', 'max_depth': 7, 'min_samples_split': 3}\n"
     ]
    },
    {
     "data": {
      "image/png": "[encoded data removed]",
      "text/plain": [
       "<Figure size 432x288 with 1 Axes>"
      ]
     },
     "metadata": {},
     "output_type": "display_data"
    }
   ],
   "source": [
    "from sklearn import tree\n",
    "\n",
    "tr = tree.DecisionTreeClassifier()\n",
    "grid_params = {'criterion': ['gini', 'entropy'],\"max_depth\": [ 2, 5,7,8,10], \"min_samples_split\": [2, 3, 5, 10]}\n",
    "modelTree = myGridSearch(tr, grid_params, CrossValidationFolds, X_train, y_train, X_test, y_test)\n",
    "\n",
    "print(\"The best hyper parameters values: \",modelTree.best_params_)\n",
    "\n",
    "fpickle = open('modelTree.pkl', 'wb')\n",
    "pickle.dump(modelTree, fpickle)"
   ]
  },
  {
   "cell_type": "markdown",
   "metadata": {},
   "source": [
    "* __The random Forest__"
   ]
  },
  {
   "cell_type": "code",
   "execution_count": 27,
   "metadata": {},
   "outputs": [
    {
     "name": "stdout",
     "output_type": "stream",
     "text": [
      "Mean train score: 0.75  / STD train score: 0.00  / Max train score: 0.76  / Min train score: 0.75\n",
      "Mean test score: 0.75  / STD test score: 0.00  / Max test score: 0.75  / Min test score: 0.75\n",
      "Mean AUC: 0.71  / Std AUC: 0.00  / Max AUC: 0.71  / Min AUC: 0.70\n",
      "The best hyper parameters values:  {'class_weight': None, 'criterion': 'gini', 'max_depth': 10, 'n_estimators': 200}\n"
     ]
    },
    {
     "data": {
      "image/png": "[encoded data removed]",
      "text/plain": [
       "<Figure size 432x288 with 1 Axes>"
      ]
     },
     "metadata": {},
     "output_type": "display_data"
    }
   ],
   "source": [
    "from sklearn.ensemble import RandomForestClassifier\n",
    "\n",
    "rf = RandomForestClassifier(verbose = 0)\n",
    "\n",
    "grid_params = {\"n_estimators\": [10,20,50, 100,200],\n",
    "               \"criterion\": ['gini', 'entropy'],\n",
    "               'max_depth': [2,3,5,10],\n",
    "               \"class_weight\": ['balanced', 'balanced_subsample', None]\n",
    "              }\n",
    "modelRF = myGridSearch(rf, grid_params, CrossValidationFolds, X_train, y_train, X_test, y_test)\n",
    "print(\"The best hyper parameters values: \",modelRF.best_params_)\n",
    "\n",
    "fpickle = open('modelRF.pkl', 'wb')\n",
    "pickle.dump(modelRF, fpickle)"
   ]
  },
  {
   "cell_type": "markdown",
   "metadata": {},
   "source": [
    "* __The support vector machine__"
   ]
  },
  {
   "cell_type": "code",
   "execution_count": null,
   "metadata": {},
   "outputs": [],
   "source": [
    "from sklearn import svm\n",
    "\n",
    "svc = svm.SVC()\n",
    "\n",
    "grid_params = {\n",
    "    \"kernel\": ['linear', 'poly', 'rbf'],\n",
    "    \"C\": [0.1,0.2,0.5,1,2,2.5,3], \n",
    "    \"gamma\": ['scale', 'auto'], \n",
    "    \"tol\": [1e-5,1e-3,1e-2,1e-1]\n",
    "}\n",
    "\n",
    "modelSVM = myGridSearch(svc, grid_params, CrossValidationFolds, X_train, y_train, X_test, y_test)\n",
    "print(\"The best hyper parameters values: \",modelSVM.best_params_)\n",
    "\n",
    "fpickle = open('modelSVM.pkl', 'wb')\n",
    "pickle.dump(modelSVM, fpickle)"
   ]
  },
  {
   "cell_type": "markdown",
   "metadata": {},
   "source": [
    "* __The Perceptron multi layer__\n",
    "\n",
    "The perceptron multi layer is a fully connected neuronal network with only one hidden layer. The model is trained using backprobagation"
   ]
  },
  {
   "cell_type": "code",
   "execution_count": null,
   "metadata": {},
   "outputs": [],
   "source": [
    "from sklearn.neural_network import MLPClassifier\n",
    "\n",
    "mlp = MLPClassifier()\n",
    "grid_params = {\n",
    "    \"hidden_layer_sizes\": [50, 100, 200, 500],\n",
    "    \"activation\": {'identity', 'logistic', 'tanh', 'relu'},\n",
    "    \"solver\": {'lbfgs', 'sgd', 'adam'},\n",
    "    \"alpha\": [0.00001, 0.0001, 0.001, 0.01]\n",
    "}\n",
    "\n",
    "modelMlp = myGridSearch(mlp, grid_params, CrossValidationFolds, X_train, y_train, X_test, y_test)\n",
    "print(\"The best hyper parameters values: \",modelMlp.best_params_)\n",
    "\n",
    "fpickle = open('modelMLP.pkl', 'wb')\n",
    "pickle.dump(modelMLP, fpickle)\n"
   ]
  },
  {
   "cell_type": "markdown",
   "metadata": {},
   "source": [
    "## 4.3 The model selection\n",
    "\n",
    "After training the models, we are going to use the validation data set to select the best model. The best model has the highest value of the AUC"
   ]
  },
  {
   "cell_type": "code",
   "execution_count": null,
   "metadata": {},
   "outputs": [],
   "source": [
    "def myROCCurvePlot(xVal, yVal, model, title='ROC Curve'):\n",
    "    # The score:\n",
    "    predict = model.predict(xVal)\n",
    "    score = model.score(xVal, yVal)\n",
    "    #False positive et True positives\n",
    "    fp, vp,_ = roc_curve(yVal, predict)\n",
    "    lw =2\n",
    "    #A.U.C\n",
    "    auc = roc_auc_score(y_val,predict)\n",
    "    plt.figure()\n",
    "    plt.plot(fp, vp, color='darkorange',lw=lw, label='ROC Curve (area = %0.3f)' % auc)\n",
    "    plt.plot([0, 1], [0, 1], color='navy', lw=lw, linestyle='--')\n",
    "    plt.xlim([0.0, 1.0])\n",
    "    plt.ylim([0.0, 1.05])\n",
    "    plt.xlabel('False Positive rate')\n",
    "    plt.ylabel('True Positive rate')\n",
    "    plt.title(title + ' / Accuracy= %0.3f'% score)\n",
    "    plt.legend(loc=\"lower right\")\n",
    "    plt.show()\n",
    "    \n",
    "    return auc"
   ]
  },
  {
   "cell_type": "code",
   "execution_count": null,
   "metadata": {},
   "outputs": [],
   "source": [
    "maxAUC=0"
   ]
  },
  {
   "cell_type": "markdown",
   "metadata": {},
   "source": [
    "* Logistic regression"
   ]
  },
  {
   "cell_type": "code",
   "execution_count": null,
   "metadata": {},
   "outputs": [],
   "source": [
    "m = pickle.load(open('modelLR.pkl','rb'))\n",
    "bestModel=m\n",
    " \n",
    "aucLR = myROCCurvePlot(X_val, y_val, m, 'Logistic Regression ROC Curve')\n",
    "maxAUC = aucLR\n",
    "print(\"Air Under Curve: %0.3f\"% aucLR)"
   ]
  },
  {
   "cell_type": "markdown",
   "metadata": {},
   "source": [
    "* The gradient boosting"
   ]
  },
  {
   "cell_type": "code",
   "execution_count": null,
   "metadata": {},
   "outputs": [],
   "source": [
    "m = pickle.load(open('modelGB.pkl','rb'))\n",
    "aucGB = myROCCurvePlot(X_val, y_val, m, 'Gradient Boosting ROC Curve')\n",
    "print(\"Air Under Curve: %0.3f\"% aucGB)\n",
    "\n",
    "if aucGB > maxAUC:\n",
    "    bestModel=m"
   ]
  },
  {
   "cell_type": "markdown",
   "metadata": {},
   "source": [
    "* The decision tree"
   ]
  },
  {
   "cell_type": "code",
   "execution_count": null,
   "metadata": {},
   "outputs": [],
   "source": [
    "m = pickle.load(open('modelTree.pkl','rb'))\n",
    "aucTR = myROCCurvePlot(X_val, y_val, m, 'Decision tree ROC Curve')\n",
    "print(\"Air Under Curve: %0.3f\"% aucTR)\n",
    "\n",
    "if aucTR > maxAUC:\n",
    "    bestModel=m"
   ]
  },
  {
   "cell_type": "markdown",
   "metadata": {},
   "source": [
    "* The random forest"
   ]
  },
  {
   "cell_type": "code",
   "execution_count": null,
   "metadata": {},
   "outputs": [],
   "source": [
    "m = pickle.load(open('modelRF.pkl','rb'))\n",
    "\n",
    "aucRF = myROCCurvePlot(X_val, y_val, m, 'Random Forest ROC Curve')\n",
    "print(\"Air Under Curve: %0.3f\"% aucRF)\n",
    "\n",
    "if aucRF > maxAUC:\n",
    "    bestModel=m"
   ]
  },
  {
   "cell_type": "markdown",
   "metadata": {},
   "source": [
    "* The SVM"
   ]
  },
  {
   "cell_type": "code",
   "execution_count": null,
   "metadata": {},
   "outputs": [],
   "source": [
    "m = pickle.load(open('modelSVM.pkl','rb'))\n",
    "\n",
    "aucSvm = myROCCurvePlot(X_val, y_val, m, 'SVM ROC Curve')\n",
    "print(\"Air Under Curve: %0.3f\"% aucSvm)\n",
    "\n",
    "if aucSvm > maxAUC:\n",
    "    bestModel=m"
   ]
  },
  {
   "cell_type": "markdown",
   "metadata": {},
   "source": [
    "* The multi layer perceptron"
   ]
  },
  {
   "cell_type": "code",
   "execution_count": null,
   "metadata": {},
   "outputs": [],
   "source": [
    "m = pickle.load(open('modelMLP.pkl','rb'))\n",
    "\n",
    "aucMLP = myROCCurvePlot(X_val, y_val, m, 'M.L.P ROC Curve')\n",
    "print(\"Air Under Curve: %0.3f\"% aucMLP)\n",
    "\n",
    "if aucMLP > maxAUC:\n",
    "    bestModel=m"
   ]
  },
  {
   "cell_type": "markdown",
   "metadata": {},
   "source": [
    "The best model is the one which has the highest __AUC__.\n",
    "\n",
    "\n",
    "To achieve this challenge, I save the best model on this directory, I will use it to generate the expected file."
   ]
  },
  {
   "cell_type": "code",
   "execution_count": null,
   "metadata": {},
   "outputs": [],
   "source": [
    "fpickle = open('bestModel.pkl', 'wb')\n",
    "pickle.dump(bestModel, fpickle)"
   ]
  },
  {
   "cell_type": "markdown",
   "metadata": {},
   "source": [
    "# 5. What client to client ?\n",
    "\n",
    "Contacting a customer has a fixed cost of 10 Euros, it's expensive regarding the revenue\n",
    "TELCO must contact firstly customers who have been classified as to leave.\n",
    "\n",
    "\n",
    "# What is the maximum discount to proposed ?\n",
    "\n",
    "The discount will be proposed to customers called by TELCO agents. A call has a fixed cost of 10 Euros.\n",
    "\n",
    "The discount must maximise the TELCO profit.\n",
    "\n",
    "I proposed to base the discount amount on the __Overcharge__ amount per year. That will allow TELCO to secure their profit because it's still relay on the phone bill\n",
    "\n",
    "The formula is: __(OVERCHARGE - 10) * LEAVE_PROBABILITY__. \n",
    "\n",
    "The higher the probability of a customer to leave, the higher the amount of the discount."
   ]
  },
  {
   "cell_type": "code",
   "execution_count": null,
   "metadata": {},
   "outputs": [],
   "source": []
  }
 ],
 "metadata": {
  "kernelspec": {
   "display_name": "Python 3",
   "language": "python",
   "name": "python3"
  },
  "language_info": {
   "codemirror_mode": {
    "name": "ipython",
    "version": 3
   },
   "file_extension": ".py",
   "mimetype": "text/x-python",
   "name": "python",
   "nbconvert_exporter": "python",
   "pygments_lexer": "ipython3",
   "version": "3.7.4"
  }
 },
 "nbformat": 4,
 "nbformat_minor": 4
}
