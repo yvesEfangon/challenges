{
 "cells": [
  {
   "cell_type": "markdown",
   "metadata": {},
   "source": [
    "# __THE TELCO CHURN CHALLENGE FOR REXEL__"
   ]
  },
  {
   "cell_type": "markdown",
   "metadata": {},
   "source": [
    "## 1. Introduction"
   ]
  },
  {
   "cell_type": "markdown",
   "metadata": {},
   "source": [
    "The objective of this challenge is to prevent customer to stop using TELCO Inc phoning services.\n",
    "\n",
    "There are many reasons why customers may churn. It's crucial to detect those customers before they leave.\n",
    "\n",
    "One of the most effective way to achive that goal is to use the data.\n",
    "\n",
    "Based on historical data, we are going to detect customers who may leave and suggest actions that can avoid the leaving.\n",
    "\n",
    "## 2. The data\n",
    "\n",
    "We have 2 datasets to achieve the challenge. _The training dataset_, will be use to train, test and evaluate machine learning models. The validation dataset is for the final submission of the challenge."
   ]
  },
  {
   "cell_type": "code",
   "execution_count": 3,
   "metadata": {},
   "outputs": [],
   "source": [
    "import numpy as np\n",
    "import pandas as pd\n",
    "\n",
    "data = pd.read_csv('data/training.csv', na_values=[\" \"])"
   ]
  },
  {
   "cell_type": "code",
   "execution_count": 4,
   "metadata": {},
   "outputs": [
    {
     "name": "stdout",
     "output_type": "stream",
     "text": [
      "The dataset shape:  (11981, 19)\n"
     ]
    }
   ],
   "source": [
    "print(\"The dataset shape: \", data.shape)"
   ]
  },
  {
   "cell_type": "markdown",
   "metadata": {},
   "source": [
    "The data we have for this challenge has __11981__ rows and __19__ columns (or variables). Let's visualize the first 6 rows of the data:"
   ]
  },
  {
   "cell_type": "code",
   "execution_count": 5,
   "metadata": {},
   "outputs": [
    {
     "data": {
      "text/html": [
       "<div>\n",
       "<style scoped>\n",
       "    .dataframe tbody tr th:only-of-type {\n",
       "        vertical-align: middle;\n",
       "    }\n",
       "\n",
       "    .dataframe tbody tr th {\n",
       "        vertical-align: top;\n",
       "    }\n",
       "\n",
       "    .dataframe thead th {\n",
       "        text-align: right;\n",
       "    }\n",
       "</style>\n",
       "<table border=\"1\" class=\"dataframe\">\n",
       "  <thead>\n",
       "    <tr style=\"text-align: right;\">\n",
       "      <th></th>\n",
       "      <th>0</th>\n",
       "      <th>1</th>\n",
       "      <th>2</th>\n",
       "      <th>3</th>\n",
       "      <th>4</th>\n",
       "    </tr>\n",
       "  </thead>\n",
       "  <tbody>\n",
       "    <tr>\n",
       "      <td>CUSTOMER_ID</td>\n",
       "      <td>C100000</td>\n",
       "      <td>C100001</td>\n",
       "      <td>C100006</td>\n",
       "      <td>C100008</td>\n",
       "      <td>C100010</td>\n",
       "    </tr>\n",
       "    <tr>\n",
       "      <td>COLLEGE</td>\n",
       "      <td>zero</td>\n",
       "      <td>one</td>\n",
       "      <td>zero</td>\n",
       "      <td>zero</td>\n",
       "      <td>one</td>\n",
       "    </tr>\n",
       "    <tr>\n",
       "      <td>DATA</td>\n",
       "      <td>660</td>\n",
       "      <td>317.647</td>\n",
       "      <td>208.696</td>\n",
       "      <td>265.018</td>\n",
       "      <td>440</td>\n",
       "    </tr>\n",
       "    <tr>\n",
       "      <td>INCOME</td>\n",
       "      <td>19995</td>\n",
       "      <td>31477</td>\n",
       "      <td>66742</td>\n",
       "      <td>40864</td>\n",
       "      <td>43321.5</td>\n",
       "    </tr>\n",
       "    <tr>\n",
       "      <td>OVERCHARGE</td>\n",
       "      <td>0</td>\n",
       "      <td>155</td>\n",
       "      <td>0</td>\n",
       "      <td>183</td>\n",
       "      <td>200</td>\n",
       "    </tr>\n",
       "    <tr>\n",
       "      <td>LEFTOVER</td>\n",
       "      <td>0</td>\n",
       "      <td>15</td>\n",
       "      <td>13</td>\n",
       "      <td>0</td>\n",
       "      <td>0</td>\n",
       "    </tr>\n",
       "    <tr>\n",
       "      <td>HOUSE</td>\n",
       "      <td>897338</td>\n",
       "      <td>393396</td>\n",
       "      <td>937197</td>\n",
       "      <td>986430</td>\n",
       "      <td>394622</td>\n",
       "    </tr>\n",
       "    <tr>\n",
       "      <td>LESSTHAN600k</td>\n",
       "      <td>False</td>\n",
       "      <td>True</td>\n",
       "      <td>False</td>\n",
       "      <td>False</td>\n",
       "      <td>True</td>\n",
       "    </tr>\n",
       "    <tr>\n",
       "      <td>CHILD</td>\n",
       "      <td>4</td>\n",
       "      <td>0</td>\n",
       "      <td>4</td>\n",
       "      <td>3</td>\n",
       "      <td>2</td>\n",
       "    </tr>\n",
       "    <tr>\n",
       "      <td>JOB_CLASS</td>\n",
       "      <td>3</td>\n",
       "      <td>1</td>\n",
       "      <td>2</td>\n",
       "      <td>3</td>\n",
       "      <td>3</td>\n",
       "    </tr>\n",
       "    <tr>\n",
       "      <td>REVENUE</td>\n",
       "      <td>160</td>\n",
       "      <td>100</td>\n",
       "      <td>127</td>\n",
       "      <td>86</td>\n",
       "      <td>77</td>\n",
       "    </tr>\n",
       "    <tr>\n",
       "      <td>HANDSET_PRICE</td>\n",
       "      <td>155</td>\n",
       "      <td>245</td>\n",
       "      <td>493</td>\n",
       "      <td>390</td>\n",
       "      <td>175</td>\n",
       "    </tr>\n",
       "    <tr>\n",
       "      <td>OVER_15MINS_CALLS_PER_MONTH</td>\n",
       "      <td>1</td>\n",
       "      <td>27</td>\n",
       "      <td>20</td>\n",
       "      <td>13</td>\n",
       "      <td>18</td>\n",
       "    </tr>\n",
       "    <tr>\n",
       "      <td>TIME_CLIENT</td>\n",
       "      <td>1.2</td>\n",
       "      <td>2.7</td>\n",
       "      <td>2.6</td>\n",
       "      <td>2.5</td>\n",
       "      <td>2.4</td>\n",
       "    </tr>\n",
       "    <tr>\n",
       "      <td>AVERAGE_CALL_DURATION</td>\n",
       "      <td>15</td>\n",
       "      <td>4</td>\n",
       "      <td>4</td>\n",
       "      <td>12</td>\n",
       "      <td>10</td>\n",
       "    </tr>\n",
       "    <tr>\n",
       "      <td>REPORTED_SATISFACTION</td>\n",
       "      <td>very_unsat</td>\n",
       "      <td>unsat</td>\n",
       "      <td>avg</td>\n",
       "      <td>unsat</td>\n",
       "      <td>very_unsat</td>\n",
       "    </tr>\n",
       "    <tr>\n",
       "      <td>REPORTED_USAGE_LEVEL</td>\n",
       "      <td>little</td>\n",
       "      <td>little</td>\n",
       "      <td>very_little</td>\n",
       "      <td>very_high</td>\n",
       "      <td>little</td>\n",
       "    </tr>\n",
       "    <tr>\n",
       "      <td>CONSIDERING_CHANGE_OF_PLAN</td>\n",
       "      <td>considering</td>\n",
       "      <td>considering</td>\n",
       "      <td>considering</td>\n",
       "      <td>considering</td>\n",
       "      <td>actively_looking_into_it</td>\n",
       "    </tr>\n",
       "    <tr>\n",
       "      <td>CHURNED</td>\n",
       "      <td>STAY</td>\n",
       "      <td>LEAVE</td>\n",
       "      <td>STAY</td>\n",
       "      <td>LEAVE</td>\n",
       "      <td>LEAVE</td>\n",
       "    </tr>\n",
       "  </tbody>\n",
       "</table>\n",
       "</div>"
      ],
      "text/plain": [
       "                                       0            1            2  \\\n",
       "CUSTOMER_ID                      C100000      C100001      C100006   \n",
       "COLLEGE                             zero          one         zero   \n",
       "DATA                                 660      317.647      208.696   \n",
       "INCOME                             19995        31477        66742   \n",
       "OVERCHARGE                             0          155            0   \n",
       "LEFTOVER                               0           15           13   \n",
       "HOUSE                             897338       393396       937197   \n",
       "LESSTHAN600k                       False         True        False   \n",
       "CHILD                                  4            0            4   \n",
       "JOB_CLASS                              3            1            2   \n",
       "REVENUE                              160          100          127   \n",
       "HANDSET_PRICE                        155          245          493   \n",
       "OVER_15MINS_CALLS_PER_MONTH            1           27           20   \n",
       "TIME_CLIENT                          1.2          2.7          2.6   \n",
       "AVERAGE_CALL_DURATION                 15            4            4   \n",
       "REPORTED_SATISFACTION         very_unsat        unsat          avg   \n",
       "REPORTED_USAGE_LEVEL              little       little  very_little   \n",
       "CONSIDERING_CHANGE_OF_PLAN   considering  considering  considering   \n",
       "CHURNED                             STAY        LEAVE         STAY   \n",
       "\n",
       "                                       3                         4  \n",
       "CUSTOMER_ID                      C100008                   C100010  \n",
       "COLLEGE                             zero                       one  \n",
       "DATA                             265.018                       440  \n",
       "INCOME                             40864                   43321.5  \n",
       "OVERCHARGE                           183                       200  \n",
       "LEFTOVER                               0                         0  \n",
       "HOUSE                             986430                    394622  \n",
       "LESSTHAN600k                       False                      True  \n",
       "CHILD                                  3                         2  \n",
       "JOB_CLASS                              3                         3  \n",
       "REVENUE                               86                        77  \n",
       "HANDSET_PRICE                        390                       175  \n",
       "OVER_15MINS_CALLS_PER_MONTH           13                        18  \n",
       "TIME_CLIENT                          2.5                       2.4  \n",
       "AVERAGE_CALL_DURATION                 12                        10  \n",
       "REPORTED_SATISFACTION              unsat                very_unsat  \n",
       "REPORTED_USAGE_LEVEL           very_high                    little  \n",
       "CONSIDERING_CHANGE_OF_PLAN   considering  actively_looking_into_it  \n",
       "CHURNED                            LEAVE                     LEAVE  "
      ]
     },
     "execution_count": 5,
     "metadata": {},
     "output_type": "execute_result"
    }
   ],
   "source": [
    "data.head().T"
   ]
  },
  {
   "cell_type": "code",
   "execution_count": 6,
   "metadata": {},
   "outputs": [
    {
     "data": {
      "text/plain": [
       "CUSTOMER_ID                     object\n",
       "COLLEGE                         object\n",
       "DATA                           float64\n",
       "INCOME                         float64\n",
       "OVERCHARGE                       int64\n",
       "LEFTOVER                         int64\n",
       "HOUSE                          float64\n",
       "LESSTHAN600k                    object\n",
       "CHILD                            int64\n",
       "JOB_CLASS                        int64\n",
       "REVENUE                        float64\n",
       "HANDSET_PRICE                    int64\n",
       "OVER_15MINS_CALLS_PER_MONTH      int64\n",
       "TIME_CLIENT                    float64\n",
       "AVERAGE_CALL_DURATION            int64\n",
       "REPORTED_SATISFACTION           object\n",
       "REPORTED_USAGE_LEVEL            object\n",
       "CONSIDERING_CHANGE_OF_PLAN      object\n",
       "CHURNED                         object\n",
       "dtype: object"
      ]
     },
     "execution_count": 6,
     "metadata": {},
     "output_type": "execute_result"
    }
   ],
   "source": [
    "data.dtypes"
   ]
  },
  {
   "cell_type": "markdown",
   "metadata": {},
   "source": [
    "### 2.1 The data description\n",
    "\n",
    "* CUSTOMER_ID: A unique customer identifier (categorical)\n",
    "* COLLEGE: (one or zero), is the customer college educated ? (categorical)\n",
    "* DATA: Monthly data consumption in Mo (numerical)\n",
    "* INCOME: Annual salary of the client (numerical)\n",
    "* OVERCHARGE:Average overcharge per year (numerical)\n",
    "* LEFTOVER: Average number of leftover minutes per month (numerical)\n",
    "* HOUSE: Estimated value of the house (numerical)\n",
    "* LESSTHAN600k: Is the value of the house smaller than 600K ? (catagorical)\n",
    "* CHILD: The number of children (numerical)\n",
    "* JOB_CLASS: Self reported type of job (categorical)\n",
    "* REVENUE: Annual phone bill (numerical)\n",
    "* HANDSET_PRICE: The price of the handset (phone) (numerical)\n",
    "* OVER_15MINS_CALLS_PER_MONTH: Average number of long calls (more than 15 minutes) (numerical)\n",
    "* TIME_CLIENT: The tenure in year (numerical)\n",
    "* AVERAGE_CALL_DURATION: The average duration of a call (numerical)\n",
    "* REPORTED_SATISFACTION: The reported level of satisfaction (categorical)\n",
    "* REPORTED_USAGE_LEVEL: The self reported usage level (categorical)\n",
    "* CONSIDERING_CHANGE_OF_PLAN: Self reported consideration whether to change operator (categorical)\n",
    "* CHURNED: Did the customer stay or leave. This is the class (categorical)"
   ]
  },
  {
   "cell_type": "markdown",
   "metadata": {},
   "source": [
    "### 2.2 The data quality\n",
    "\n",
    "Before starting any analysis, it's important to guarantee the quality of the data. Especially, we are going to check if there are missing values:"
   ]
  },
  {
   "cell_type": "code",
   "execution_count": 7,
   "metadata": {},
   "outputs": [
    {
     "data": {
      "text/plain": [
       "CUSTOMER_ID                      0\n",
       "COLLEGE                          0\n",
       "DATA                             0\n",
       "INCOME                           0\n",
       "OVERCHARGE                       0\n",
       "LEFTOVER                         0\n",
       "HOUSE                          635\n",
       "LESSTHAN600k                   635\n",
       "CHILD                            0\n",
       "JOB_CLASS                        0\n",
       "REVENUE                          0\n",
       "HANDSET_PRICE                    0\n",
       "OVER_15MINS_CALLS_PER_MONTH      0\n",
       "TIME_CLIENT                      0\n",
       "AVERAGE_CALL_DURATION            0\n",
       "REPORTED_SATISFACTION            0\n",
       "REPORTED_USAGE_LEVEL             0\n",
       "CONSIDERING_CHANGE_OF_PLAN       0\n",
       "CHURNED                          0\n",
       "dtype: int64"
      ]
     },
     "execution_count": 7,
     "metadata": {},
     "output_type": "execute_result"
    }
   ],
   "source": [
    "data.isna().sum()"
   ]
  },
  {
   "cell_type": "markdown",
   "metadata": {},
   "source": [
    "There are 2 variables with missing values: HOUSE (the house value) and the LESSTHAN600K (is the house value smaller or higher tha 600K ?). \n",
    " \n",
    "\n",
    "__What is the type of the missing values ?__"
   ]
  },
  {
   "cell_type": "code",
   "execution_count": 16,
   "metadata": {},
   "outputs": [
    {
     "data": {
      "text/plain": [
       "100.0"
      ]
     },
     "execution_count": 16,
     "metadata": {},
     "output_type": "execute_result"
    }
   ],
   "source": [
    "# We retain only rows with missing values in\n",
    "dataNa = data[data['HOUSE'].isna()]\n",
    "lessthan600k = dataNa['LESSTHAN600k']\n",
    "\n",
    "# The percentage of missing values in the column LESSTHAN600K\n",
    "100*lessthan600k.isna().sum()/lessthan600k.shape[0]"
   ]
  },
  {
   "cell_type": "markdown",
   "metadata": {},
   "source": [
    "The variable __LESSTHAN600K__ has missing values because the house were not estimated. __The values are missing not at random (MNAR)__.\n",
    "\n",
    "There is no suitable method to impute these missing values when they are missing not at random. \n",
    "\n",
    "I choose to convert missing values as a level for the variable __LESSTHAN600K__. For the variable __HOUSE__, I will replace missing values by __0__."
   ]
  },
  {
   "cell_type": "code",
   "execution_count": 17,
   "metadata": {},
   "outputs": [],
   "source": [
    "data = data.dropna()"
   ]
  },
  {
   "cell_type": "markdown",
   "metadata": {},
   "source": [
    "### 2.3 The data formatting\n",
    "\n",
    "Last step before using the data for analysis, is to convert the data into theThere are 2 main data types: categorical and numerical. Let's convert each variable in the appropriate data type:"
   ]
  },
  {
   "cell_type": "code",
   "execution_count": null,
   "metadata": {},
   "outputs": [],
   "source": [
    "data['CUSTOMER_ID'] = pd.Categorical(data['CUSTOMER_ID'])\n",
    "data['COLLEGE'] = pd.Categorical(data['COLLEGE'])\n",
    "data['LESSTHAN600k'] = pd.Categorical(data['LESSTHAN600k'])\n",
    "data['JOB_CLASS'] = pd.Categorical(data['JOB_CLASS'])\n",
    "data['REPORTED_SATISFACTION'] = pd.Categorical(data['REPORTED_SATISFACTION'])\n",
    "data['REPORTED_USAGE_LEVEL'] = pd.Categorical(data['REPORTED_USAGE_LEVEL'])\n",
    "data['CONSIDERING_CHANGE_OF_PLAN'] = pd.Categorical(data['CONSIDERING_CHANGE_OF_PLAN'])\n",
    "data['CHURNED'] = pd.Categorical(data['CHURNED'])"
   ]
  }
 ],
 "metadata": {
  "kernelspec": {
   "display_name": "Python 3",
   "language": "python",
   "name": "python3"
  },
  "language_info": {
   "codemirror_mode": {
    "name": "ipython",
    "version": 3
   },
   "file_extension": ".py",
   "mimetype": "text/x-python",
   "name": "python",
   "nbconvert_exporter": "python",
   "pygments_lexer": "ipython3",
   "version": "3.7.4"
  }
 },
 "nbformat": 4,
 "nbformat_minor": 4
}
