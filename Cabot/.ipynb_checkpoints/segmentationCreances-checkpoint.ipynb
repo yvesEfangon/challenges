{
 "cells": [
  {
   "cell_type": "markdown",
   "metadata": {},
   "source": [
    "# Segmentation des dossiers"
   ]
  },
  {
   "cell_type": "code",
   "execution_count": 1,
   "metadata": {},
   "outputs": [],
   "source": [
    "import pandas as pd\n",
    "import numpy as np\n",
    "import datetime as DT\n",
    "import matplotlib.pyplot as plt\n",
    "import seaborn as sns"
   ]
  },
  {
   "cell_type": "markdown",
   "metadata": {},
   "source": [
    "## 1. Introduction"
   ]
  },
  {
   "cell_type": "markdown",
   "metadata": {},
   "source": [
    "__CABOT Financial France__ est un acteur majeur dans le rachat de créances non performantes en France et\n",
    "la filiale du leader mondial de ce secteur. À ce titre, il réalise des encaissements par voie amiable ou judiciaire.\n",
    "Lors du rachat de nouvelles créances, il est primordial de débuter les opérations de recouvrement sur les\n",
    "dossiers sur lesquels les encaissements sont possibles (pour des raisons de trésorerie et autres).\n",
    "Ainsi donc, on deploiera les actions sur ces derniers (téléphone, mail, SMS, VMS,. . . ) en priorité.\n",
    "La question à laquelle nous allons répondre dans ce projet est, quels sont les débiteurs (ou dossiers) susceptibles\n",
    "de faire des encaissements ?\n",
    "Nous classerons donc les dossiers en 2 catégories:\n",
    "* Les payeurs: Les débiteurs sur lesquels on réalise au moins un encaissement positif.\n",
    "* Les non-payeurs: Les dossiers sur lesquels aucun paiement positif n’est fait.\n",
    "Note: Un débiteur est individu redevable d’une dette."
   ]
  },
  {
   "cell_type": "markdown",
   "metadata": {},
   "source": [
    "## 2. Les données disponibles"
   ]
  },
  {
   "cell_type": "markdown",
   "metadata": {},
   "source": [
    "Pour mener ce projet, nous avons à notre disposition plusieurs types de données."
   ]
  },
  {
   "cell_type": "markdown",
   "metadata": {},
   "source": [
    "### 2.1 Les dossiers"
   ]
  },
  {
   "cell_type": "code",
   "execution_count": 2,
   "metadata": {},
   "outputs": [],
   "source": [
    "dossiers = pd.read_csv('data/dossiers.csv', sep=',', na_values=[\" \",'null'])"
   ]
  },
  {
   "cell_type": "code",
   "execution_count": 3,
   "metadata": {},
   "outputs": [
    {
     "name": "stdout",
     "output_type": "stream",
     "text": [
      "Forme du jeu de données:  (9498, 19)\n"
     ]
    }
   ],
   "source": [
    "print(\"Forme du jeu de données: \", dossiers.shape)"
   ]
  },
  {
   "cell_type": "code",
   "execution_count": 4,
   "metadata": {},
   "outputs": [
    {
     "data": {
      "text/html": [
       "<div>\n",
       "<style scoped>\n",
       "    .dataframe tbody tr th:only-of-type {\n",
       "        vertical-align: middle;\n",
       "    }\n",
       "\n",
       "    .dataframe tbody tr th {\n",
       "        vertical-align: top;\n",
       "    }\n",
       "\n",
       "    .dataframe thead th {\n",
       "        text-align: right;\n",
       "    }\n",
       "</style>\n",
       "<table border=\"1\" class=\"dataframe\">\n",
       "  <thead>\n",
       "    <tr style=\"text-align: right;\">\n",
       "      <th></th>\n",
       "      <th>0</th>\n",
       "      <th>1</th>\n",
       "      <th>2</th>\n",
       "      <th>3</th>\n",
       "      <th>4</th>\n",
       "    </tr>\n",
       "  </thead>\n",
       "  <tbody>\n",
       "    <tr>\n",
       "      <td>id_dossier</td>\n",
       "      <td>4481073</td>\n",
       "      <td>4481075</td>\n",
       "      <td>4481076</td>\n",
       "      <td>4481077</td>\n",
       "      <td>4481079</td>\n",
       "    </tr>\n",
       "    <tr>\n",
       "      <td>date_rachat_cabot</td>\n",
       "      <td>2017-02-13</td>\n",
       "      <td>2017-02-13</td>\n",
       "      <td>2017-02-13</td>\n",
       "      <td>2017-02-13</td>\n",
       "      <td>2017-02-13</td>\n",
       "    </tr>\n",
       "    <tr>\n",
       "      <td>date_creance</td>\n",
       "      <td>2012-05-07</td>\n",
       "      <td>2012-12-03</td>\n",
       "      <td>2010-05-11</td>\n",
       "      <td>2013-06-05</td>\n",
       "      <td>2013-02-05</td>\n",
       "    </tr>\n",
       "    <tr>\n",
       "      <td>total_dette</td>\n",
       "      <td>3918.1</td>\n",
       "      <td>3364.32</td>\n",
       "      <td>9200.5</td>\n",
       "      <td>2082.44</td>\n",
       "      <td>365.71</td>\n",
       "    </tr>\n",
       "    <tr>\n",
       "      <td>civilite</td>\n",
       "      <td>MR</td>\n",
       "      <td>MR</td>\n",
       "      <td>MR</td>\n",
       "      <td>MR</td>\n",
       "      <td>MME</td>\n",
       "    </tr>\n",
       "    <tr>\n",
       "      <td>cpActuel</td>\n",
       "      <td>45760</td>\n",
       "      <td>25000</td>\n",
       "      <td>78000</td>\n",
       "      <td>45520</td>\n",
       "      <td>44640</td>\n",
       "    </tr>\n",
       "    <tr>\n",
       "      <td>ville</td>\n",
       "      <td>BOIGNY SUR BIONNE</td>\n",
       "      <td>BESANCON</td>\n",
       "      <td>VERSAILLES</td>\n",
       "      <td>CHEVILLY</td>\n",
       "      <td>VUE</td>\n",
       "    </tr>\n",
       "    <tr>\n",
       "      <td>telephone_fixe</td>\n",
       "      <td>NON</td>\n",
       "      <td>NON</td>\n",
       "      <td>OUI</td>\n",
       "      <td>OUI</td>\n",
       "      <td>NON</td>\n",
       "    </tr>\n",
       "    <tr>\n",
       "      <td>telephone_mobile</td>\n",
       "      <td>NON</td>\n",
       "      <td>OUI</td>\n",
       "      <td>NON</td>\n",
       "      <td>NON</td>\n",
       "      <td>OUI</td>\n",
       "    </tr>\n",
       "    <tr>\n",
       "      <td>email</td>\n",
       "      <td>OUI</td>\n",
       "      <td>OUI</td>\n",
       "      <td>NON</td>\n",
       "      <td>NON</td>\n",
       "      <td>OUI</td>\n",
       "    </tr>\n",
       "    <tr>\n",
       "      <td>adresse_active</td>\n",
       "      <td>OUI</td>\n",
       "      <td>OUI</td>\n",
       "      <td>OUI</td>\n",
       "      <td>OUI</td>\n",
       "      <td>OUI</td>\n",
       "    </tr>\n",
       "    <tr>\n",
       "      <td>cpNaissance</td>\n",
       "      <td>45</td>\n",
       "      <td>99</td>\n",
       "      <td>99</td>\n",
       "      <td>99</td>\n",
       "      <td>44</td>\n",
       "    </tr>\n",
       "    <tr>\n",
       "      <td>date_naissance</td>\n",
       "      <td>1970-02-23</td>\n",
       "      <td>1968-03-13</td>\n",
       "      <td>1953-04-29</td>\n",
       "      <td>1967-11-19</td>\n",
       "      <td>1949-05-08</td>\n",
       "    </tr>\n",
       "    <tr>\n",
       "      <td>lieu_naiss</td>\n",
       "      <td>ORLEANS</td>\n",
       "      <td>SORGUN</td>\n",
       "      <td>KAOLACK</td>\n",
       "      <td>AMARANTE</td>\n",
       "      <td>BRAINS</td>\n",
       "    </tr>\n",
       "    <tr>\n",
       "      <td>codebiteur</td>\n",
       "      <td>OUI</td>\n",
       "      <td>OUI</td>\n",
       "      <td>OUI</td>\n",
       "      <td>NON</td>\n",
       "      <td>OUI</td>\n",
       "    </tr>\n",
       "    <tr>\n",
       "      <td>employeur</td>\n",
       "      <td>CAFE FOLIET 73000 CHAMBERY</td>\n",
       "      <td>TUTAN NUSRET 67100 STRASBOURG</td>\n",
       "      <td>GOLDENCARE SA 99999 GENEVE</td>\n",
       "      <td>HLC SARL 45130 BAULE</td>\n",
       "      <td>NaN</td>\n",
       "    </tr>\n",
       "    <tr>\n",
       "      <td>produit_bancaire</td>\n",
       "      <td>CARTE ACCORD</td>\n",
       "      <td>CARTE ACCORD</td>\n",
       "      <td>CARTE ACCORD</td>\n",
       "      <td>CARTE ACCORD</td>\n",
       "      <td>CARTE ACCORD</td>\n",
       "    </tr>\n",
       "    <tr>\n",
       "      <td>produit1</td>\n",
       "      <td>NaN</td>\n",
       "      <td>NaN</td>\n",
       "      <td>NaN</td>\n",
       "      <td>NaN</td>\n",
       "      <td>NaN</td>\n",
       "    </tr>\n",
       "    <tr>\n",
       "      <td>produit2</td>\n",
       "      <td>NaN</td>\n",
       "      <td>NaN</td>\n",
       "      <td>NaN</td>\n",
       "      <td>NaN</td>\n",
       "      <td>NaN</td>\n",
       "    </tr>\n",
       "  </tbody>\n",
       "</table>\n",
       "</div>"
      ],
      "text/plain": [
       "                                            0                              1  \\\n",
       "id_dossier                            4481073                        4481075   \n",
       "date_rachat_cabot                  2017-02-13                     2017-02-13   \n",
       "date_creance                       2012-05-07                     2012-12-03   \n",
       "total_dette                            3918.1                        3364.32   \n",
       "civilite                                   MR                             MR   \n",
       "cpActuel                                45760                          25000   \n",
       "ville                       BOIGNY SUR BIONNE                       BESANCON   \n",
       "telephone_fixe                            NON                            NON   \n",
       "telephone_mobile                          NON                            OUI   \n",
       "email                                     OUI                            OUI   \n",
       "adresse_active                            OUI                            OUI   \n",
       "cpNaissance                                45                             99   \n",
       "date_naissance                     1970-02-23                     1968-03-13   \n",
       "lieu_naiss                            ORLEANS                         SORGUN   \n",
       "codebiteur                                OUI                            OUI   \n",
       "employeur          CAFE FOLIET 73000 CHAMBERY  TUTAN NUSRET 67100 STRASBOURG   \n",
       "produit_bancaire                 CARTE ACCORD                   CARTE ACCORD   \n",
       "produit1                                  NaN                            NaN   \n",
       "produit2                                  NaN                            NaN   \n",
       "\n",
       "                                            2                     3  \\\n",
       "id_dossier                            4481076               4481077   \n",
       "date_rachat_cabot                  2017-02-13            2017-02-13   \n",
       "date_creance                       2010-05-11            2013-06-05   \n",
       "total_dette                            9200.5               2082.44   \n",
       "civilite                                   MR                    MR   \n",
       "cpActuel                                78000                 45520   \n",
       "ville                              VERSAILLES              CHEVILLY   \n",
       "telephone_fixe                            OUI                   OUI   \n",
       "telephone_mobile                          NON                   NON   \n",
       "email                                     NON                   NON   \n",
       "adresse_active                            OUI                   OUI   \n",
       "cpNaissance                                99                    99   \n",
       "date_naissance                     1953-04-29            1967-11-19   \n",
       "lieu_naiss                            KAOLACK              AMARANTE   \n",
       "codebiteur                                OUI                   NON   \n",
       "employeur          GOLDENCARE SA 99999 GENEVE  HLC SARL 45130 BAULE   \n",
       "produit_bancaire                 CARTE ACCORD          CARTE ACCORD   \n",
       "produit1                                  NaN                   NaN   \n",
       "produit2                                  NaN                   NaN   \n",
       "\n",
       "                              4  \n",
       "id_dossier              4481079  \n",
       "date_rachat_cabot    2017-02-13  \n",
       "date_creance         2013-02-05  \n",
       "total_dette              365.71  \n",
       "civilite                    MME  \n",
       "cpActuel                  44640  \n",
       "ville                       VUE  \n",
       "telephone_fixe              NON  \n",
       "telephone_mobile            OUI  \n",
       "email                       OUI  \n",
       "adresse_active              OUI  \n",
       "cpNaissance                  44  \n",
       "date_naissance       1949-05-08  \n",
       "lieu_naiss               BRAINS  \n",
       "codebiteur                  OUI  \n",
       "employeur                   NaN  \n",
       "produit_bancaire   CARTE ACCORD  \n",
       "produit1                    NaN  \n",
       "produit2                    NaN  "
      ]
     },
     "execution_count": 4,
     "metadata": {},
     "output_type": "execute_result"
    }
   ],
   "source": [
    "dossiers.head().T"
   ]
  },
  {
   "cell_type": "code",
   "execution_count": 5,
   "metadata": {},
   "outputs": [
    {
     "data": {
      "text/plain": [
       "id_dossier             int64\n",
       "date_rachat_cabot     object\n",
       "date_creance          object\n",
       "total_dette          float64\n",
       "civilite              object\n",
       "cpActuel              object\n",
       "ville                 object\n",
       "telephone_fixe        object\n",
       "telephone_mobile      object\n",
       "email                 object\n",
       "adresse_active        object\n",
       "cpNaissance           object\n",
       "date_naissance        object\n",
       "lieu_naiss            object\n",
       "codebiteur            object\n",
       "employeur             object\n",
       "produit_bancaire      object\n",
       "produit1              object\n",
       "produit2              object\n",
       "dtype: object"
      ]
     },
     "execution_count": 5,
     "metadata": {},
     "output_type": "execute_result"
    }
   ],
   "source": [
    "dossiers.dtypes"
   ]
  },
  {
   "cell_type": "markdown",
   "metadata": {},
   "source": [
    "Vérifions s'il y a des valeurs manquantes:"
   ]
  },
  {
   "cell_type": "code",
   "execution_count": 6,
   "metadata": {},
   "outputs": [
    {
     "data": {
      "text/plain": [
       "id_dossier              0\n",
       "date_rachat_cabot       0\n",
       "date_creance            0\n",
       "total_dette             0\n",
       "civilite                0\n",
       "cpActuel                2\n",
       "ville                   1\n",
       "telephone_fixe          0\n",
       "telephone_mobile        0\n",
       "email                   0\n",
       "adresse_active          0\n",
       "cpNaissance          4902\n",
       "date_naissance          0\n",
       "lieu_naiss              0\n",
       "codebiteur              0\n",
       "employeur            8687\n",
       "produit_bancaire     8454\n",
       "produit1             6311\n",
       "produit2             6380\n",
       "dtype: int64"
      ]
     },
     "execution_count": 6,
     "metadata": {},
     "output_type": "execute_result"
    }
   ],
   "source": [
    "dossiers.isna().sum()"
   ]
  },
  {
   "cell_type": "markdown",
   "metadata": {},
   "source": [
    "### 2.2 Les encaissements"
   ]
  },
  {
   "cell_type": "code",
   "execution_count": 7,
   "metadata": {},
   "outputs": [],
   "source": [
    "encaissements = pd.read_csv('data/encaissements.csv',sep=';', na_values=[\" \"])"
   ]
  },
  {
   "cell_type": "code",
   "execution_count": 8,
   "metadata": {},
   "outputs": [
    {
     "data": {
      "text/plain": [
       "(1176, 4)"
      ]
     },
     "execution_count": 8,
     "metadata": {},
     "output_type": "execute_result"
    }
   ],
   "source": [
    "encaissements.shape"
   ]
  },
  {
   "cell_type": "code",
   "execution_count": 9,
   "metadata": {},
   "outputs": [
    {
     "data": {
      "text/html": [
       "<div>\n",
       "<style scoped>\n",
       "    .dataframe tbody tr th:only-of-type {\n",
       "        vertical-align: middle;\n",
       "    }\n",
       "\n",
       "    .dataframe tbody tr th {\n",
       "        vertical-align: top;\n",
       "    }\n",
       "\n",
       "    .dataframe thead th {\n",
       "        text-align: right;\n",
       "    }\n",
       "</style>\n",
       "<table border=\"1\" class=\"dataframe\">\n",
       "  <thead>\n",
       "    <tr style=\"text-align: right;\">\n",
       "      <th></th>\n",
       "      <th>0</th>\n",
       "      <th>1</th>\n",
       "      <th>2</th>\n",
       "      <th>3</th>\n",
       "      <th>4</th>\n",
       "    </tr>\n",
       "  </thead>\n",
       "  <tbody>\n",
       "    <tr>\n",
       "      <td>id_dossier</td>\n",
       "      <td>4481077</td>\n",
       "      <td>4481079</td>\n",
       "      <td>4481082</td>\n",
       "      <td>4481085</td>\n",
       "      <td>4481111</td>\n",
       "    </tr>\n",
       "    <tr>\n",
       "      <td>montant_reglement</td>\n",
       "      <td>522.44</td>\n",
       "      <td>264.78</td>\n",
       "      <td>257.22</td>\n",
       "      <td>50</td>\n",
       "      <td>362</td>\n",
       "    </tr>\n",
       "    <tr>\n",
       "      <td>date_reglement</td>\n",
       "      <td>2017-06-26</td>\n",
       "      <td>2019-07-02</td>\n",
       "      <td>2018-09-27</td>\n",
       "      <td>2017-03-09</td>\n",
       "      <td>2019-06-12</td>\n",
       "    </tr>\n",
       "    <tr>\n",
       "      <td>type_reglement</td>\n",
       "      <td>CHQ</td>\n",
       "      <td>VIRT</td>\n",
       "      <td>VIRT</td>\n",
       "      <td>CB</td>\n",
       "      <td>VIRT</td>\n",
       "    </tr>\n",
       "  </tbody>\n",
       "</table>\n",
       "</div>"
      ],
      "text/plain": [
       "                            0           1           2           3           4\n",
       "id_dossier            4481077     4481079     4481082     4481085     4481111\n",
       "montant_reglement      522.44      264.78      257.22          50         362\n",
       "date_reglement     2017-06-26  2019-07-02  2018-09-27  2017-03-09  2019-06-12\n",
       "type_reglement            CHQ        VIRT        VIRT          CB        VIRT"
      ]
     },
     "execution_count": 9,
     "metadata": {},
     "output_type": "execute_result"
    }
   ],
   "source": [
    "encaissements.head().T"
   ]
  },
  {
   "cell_type": "code",
   "execution_count": 10,
   "metadata": {},
   "outputs": [
    {
     "data": {
      "text/plain": [
       "id_dossier           0\n",
       "montant_reglement    0\n",
       "date_reglement       0\n",
       "type_reglement       0\n",
       "dtype: int64"
      ]
     },
     "execution_count": 10,
     "metadata": {},
     "output_type": "execute_result"
    }
   ],
   "source": [
    "encaissements.isna().sum()"
   ]
  },
  {
   "cell_type": "markdown",
   "metadata": {},
   "source": [
    "## 3. Préparation des données et fusion des dataset"
   ]
  },
  {
   "cell_type": "markdown",
   "metadata": {},
   "source": [
    "### 3.1 Préparation du dataset “dossiers”"
   ]
  },
  {
   "cell_type": "markdown",
   "metadata": {},
   "source": [
    "* Standardistaion de la civilité"
   ]
  },
  {
   "cell_type": "code",
   "execution_count": 11,
   "metadata": {},
   "outputs": [
    {
     "data": {
      "text/plain": [
       "array(['MR', 'MME', 'MLE', 'M.', 'ME', 'Mr'], dtype=object)"
      ]
     },
     "execution_count": 11,
     "metadata": {},
     "output_type": "execute_result"
    }
   ],
   "source": [
    "dossiers.civilite.unique()"
   ]
  },
  {
   "cell_type": "code",
   "execution_count": 12,
   "metadata": {},
   "outputs": [
    {
     "data": {
      "text/plain": [
       "array(['M', 'INCONNU', 'MME'], dtype=object)"
      ]
     },
     "execution_count": 12,
     "metadata": {},
     "output_type": "execute_result"
    }
   ],
   "source": [
    "dossiers['civilite'] = dossiers['civilite'].map({\"M.\": \"M\", \"MR\":\"M\", \"Mr\":\"M\",\"ME\":\"MME\",\"MLE\":\"MME\"})\n",
    "dossiers['civilite'] = pd.Categorical(dossiers['civilite'])\n",
    "dossiers['civilite'] = np.where(dossiers['civilite'].isna()==True, 'INCONNU', dossiers['civilite'])\n",
    "dossiers.civilite.unique()"
   ]
  },
  {
   "cell_type": "markdown",
   "metadata": {},
   "source": [
    "* Traitement des valeurs manquantes de la variable produit_bancaire."
   ]
  },
  {
   "cell_type": "code",
   "execution_count": 13,
   "metadata": {},
   "outputs": [
    {
     "name": "stdout",
     "output_type": "stream",
     "text": [
      "(0, 19)\n"
     ]
    }
   ],
   "source": [
    "empty_produit = dossiers[(dossiers['produit_bancaire'].isna()==False) & (dossiers['produit1'].isna()==False) & (dossiers['produit2'].isna()==False)]\n",
    "print(empty_produit.shape)"
   ]
  },
  {
   "cell_type": "code",
   "execution_count": 14,
   "metadata": {},
   "outputs": [
    {
     "data": {
      "text/plain": [
       "21"
      ]
     },
     "execution_count": 14,
     "metadata": {},
     "output_type": "execute_result"
    }
   ],
   "source": [
    "len(dossiers.produit_bancaire.unique())"
   ]
  },
  {
   "cell_type": "code",
   "execution_count": 15,
   "metadata": {},
   "outputs": [
    {
     "name": "stdout",
     "output_type": "stream",
     "text": [
      "(1044, 19)\n"
     ]
    }
   ],
   "source": [
    "empty_produit = dossiers[(dossiers['produit_bancaire'].isna()==False) ]\n",
    "print(empty_produit.shape)"
   ]
  },
  {
   "cell_type": "markdown",
   "metadata": {},
   "source": [
    "Nous avons 5267 ligne où les 3 colonnes _produits_ sont nulles. Il sagit de valeurs manquantes. Nous allons combiner les 3 colonnes pour en faire 1.\n",
    "\n",
    "Le principe consiste à remplacer les valeurs manquantes de la colonne _produit_bancaire_ par soit _produit1_, soit _produit2_ lorsque l'un des deux est valide"
   ]
  },
  {
   "cell_type": "code",
   "execution_count": 16,
   "metadata": {},
   "outputs": [],
   "source": [
    "dossiers['produit_bancaire'] = np.where((dossiers['produit2'].isna()==False) & (dossiers['produit_bancaire'].isna()==True), dossiers['produit2'], dossiers['produit_bancaire'])\n",
    "dossiers['produit_bancaire'] = np.where((dossiers['produit1'].isna()==False) & (dossiers['produit_bancaire'].isna()==True), dossiers['produit1'], dossiers['produit_bancaire'])"
   ]
  },
  {
   "cell_type": "code",
   "execution_count": 17,
   "metadata": {},
   "outputs": [
    {
     "name": "stdout",
     "output_type": "stream",
     "text": [
      "(4231, 19)\n"
     ]
    }
   ],
   "source": [
    "empty_produit = dossiers[(dossiers['produit_bancaire'].isna()==False) ]\n",
    "print(empty_produit.shape)"
   ]
  },
  {
   "cell_type": "code",
   "execution_count": 18,
   "metadata": {},
   "outputs": [
    {
     "data": {
      "text/plain": [
       "43"
      ]
     },
     "execution_count": 18,
     "metadata": {},
     "output_type": "execute_result"
    }
   ],
   "source": [
    "dossiers['produit_bancaire'] = pd.Categorical(dossiers['produit_bancaire'])\n",
    "del dossiers['produit1']\n",
    "del dossiers['produit2']\n",
    "len(dossiers.produit_bancaire.unique())"
   ]
  },
  {
   "cell_type": "code",
   "execution_count": 19,
   "metadata": {},
   "outputs": [],
   "source": [
    "dossiers['produit_bancaire'] = np.where(dossiers['produit_bancaire'].isna()==True, 'INCONNU', dossiers['produit_bancaire'])"
   ]
  },
  {
   "cell_type": "code",
   "execution_count": 20,
   "metadata": {},
   "outputs": [
    {
     "name": "stdout",
     "output_type": "stream",
     "text": [
      "(9498, 17)\n"
     ]
    }
   ],
   "source": [
    "empty_produit = dossiers[(dossiers['produit_bancaire'].isna()==False) ]\n",
    "print(empty_produit.shape)"
   ]
  },
  {
   "cell_type": "markdown",
   "metadata": {},
   "source": [
    "* Traitement de la colonne employeur"
   ]
  },
  {
   "cell_type": "code",
   "execution_count": 21,
   "metadata": {},
   "outputs": [
    {
     "data": {
      "text/plain": [
       "779"
      ]
     },
     "execution_count": 21,
     "metadata": {},
     "output_type": "execute_result"
    }
   ],
   "source": [
    "len(dossiers.employeur.unique())"
   ]
  },
  {
   "cell_type": "markdown",
   "metadata": {},
   "source": [
    "Nous avons 779 employeurs différents pour 811 debiteurs pour lesquels la situtation est connue. La granularité\n",
    "de l’information est très poussée, le nivéau de détail est très fin (variance très faible). Nous allons créer une\n",
    "nouvelle variable qui représentera la situation professionnelle de façon moins détaillée:\n",
    "Les valeurs de cette nouvelle variable seront créées comme suit:\n",
    "* EMPLOYE: Tous sauf ASSEDIC, RSA, CHOMEUR, SANS EMPLOI\n",
    "* SANS EMPLOIE: ASSEDIC, RSA, CHOMEUR, SANS EMPLOI\n",
    "* RETRAITE\n",
    "* Pour les valeurs manquantes, nous considérons que leur situation est inconnue, nous mettrons donc __INCONNU__"
   ]
  },
  {
   "cell_type": "code",
   "execution_count": 22,
   "metadata": {},
   "outputs": [
    {
     "data": {
      "text/plain": [
       "4"
      ]
     },
     "execution_count": 22,
     "metadata": {},
     "output_type": "execute_result"
    }
   ],
   "source": [
    "dossiers.employeur = dossiers.employeur.replace('ASSEDIC|CHOMEUR|SANS.+|RECH EMPLOI', 'SANS EMPLOIE', regex=True)\n",
    "dossiers.employeur = dossiers.employeur.replace('^(RSA)$', 'SANS EMPLOIE', regex=True)\n",
    "dossiers.employeur = np.where(dossiers.employeur.isna()==True, 'INCONNU', dossiers.employeur)\n",
    "dossiers.employeur = np.where((dossiers.employeur!='INCONNU') & (dossiers.employeur != 'RETRAITE') & (dossiers.employeur != 'SANS EMPLOIE'), 'EMPLOIE', dossiers.employeur)\n",
    "len(dossiers.employeur.unique())"
   ]
  },
  {
   "cell_type": "markdown",
   "metadata": {},
   "source": [
    "* Les variables cpActuel et ville\n",
    "\n",
    "__cpActuel__ et __ville__ sont des informations similaire, elles nous indiquent où habite le débiteur. En intégrant des données macro, comme des indicateurs macro-écronomiques des villes, ces variables peuvent apporter des informations susceptibles d'améliorer la performance des modèles.\n",
    "\n",
    "Dans le cadre de ce projet, nous n'iront pas jusque-là. Nous allons donc supprimer ces 2 variables."
   ]
  },
  {
   "cell_type": "code",
   "execution_count": 23,
   "metadata": {},
   "outputs": [],
   "source": [
    "del dossiers['cpActuel']\n",
    "del dossiers['ville']"
   ]
  },
  {
   "cell_type": "markdown",
   "metadata": {},
   "source": [
    "* Date de naissance du débiteur\n",
    "\n",
    "Nous allons calculer l'age des débiteur"
   ]
  },
  {
   "cell_type": "code",
   "execution_count": 24,
   "metadata": {},
   "outputs": [],
   "source": [
    "now = pd.Timestamp('now')\n",
    "dossiers['date_naissance'] = pd.to_datetime(dossiers['date_naissance'])\n",
    "#dossiers['date_naissance'] = dossiers['date_naissance'].where(dossiers['date_naissance'] < now, dossiers['date_naissance'] -  np.timedelta64(100, 'Y'))\n",
    "dossiers['age'] = (now - dossiers['date_naissance']).astype('<m8[Y]')"
   ]
  },
  {
   "cell_type": "code",
   "execution_count": 25,
   "metadata": {},
   "outputs": [
    {
     "data": {
      "text/plain": [
       "count    9498.000000\n",
       "mean       45.208360\n",
       "std        13.054049\n",
       "min         4.000000\n",
       "25%        35.000000\n",
       "50%        44.000000\n",
       "75%        54.000000\n",
       "max        92.000000\n",
       "Name: age, dtype: float64"
      ]
     },
     "execution_count": 25,
     "metadata": {},
     "output_type": "execute_result"
    }
   ],
   "source": [
    "dossiers['age'].describe()"
   ]
  },
  {
   "cell_type": "markdown",
   "metadata": {},
   "source": [
    "* Date de la créance"
   ]
  },
  {
   "cell_type": "code",
   "execution_count": 26,
   "metadata": {},
   "outputs": [],
   "source": [
    "now = pd.Timestamp('now')\n",
    "dossiers['date_creance'] = pd.to_datetime(dossiers['date_creance'])\n",
    "#dossiers['date_creance'] = dossiers['date_creance'].where(dossiers['date_creance'] < now, dossiers['date_creance'] -  np.timedelta64(100, 'Y'))\n",
    "dossiers['age_creance'] = (now - dossiers['date_creance']).astype('<m8[Y]')"
   ]
  },
  {
   "cell_type": "code",
   "execution_count": 27,
   "metadata": {},
   "outputs": [
    {
     "data": {
      "text/plain": [
       "count    9498.000000\n",
       "mean       16.358602\n",
       "std        33.776696\n",
       "min         0.000000\n",
       "25%         1.000000\n",
       "50%         7.000000\n",
       "75%         8.000000\n",
       "max       119.000000\n",
       "Name: age_creance, dtype: float64"
      ]
     },
     "execution_count": 27,
     "metadata": {},
     "output_type": "execute_result"
    }
   ],
   "source": [
    "dossiers['age_creance'].describe()"
   ]
  },
  {
   "cell_type": "code",
   "execution_count": 28,
   "metadata": {},
   "outputs": [],
   "source": [
    "del dossiers['date_naissance']\n",
    "del dossiers['date_creance']\n",
    "del dossiers['date_rachat_cabot']\n",
    "del dossiers['lieu_naiss']"
   ]
  },
  {
   "cell_type": "code",
   "execution_count": 29,
   "metadata": {},
   "outputs": [
    {
     "data": {
      "text/html": [
       "<div>\n",
       "<style scoped>\n",
       "    .dataframe tbody tr th:only-of-type {\n",
       "        vertical-align: middle;\n",
       "    }\n",
       "\n",
       "    .dataframe tbody tr th {\n",
       "        vertical-align: top;\n",
       "    }\n",
       "\n",
       "    .dataframe thead th {\n",
       "        text-align: right;\n",
       "    }\n",
       "</style>\n",
       "<table border=\"1\" class=\"dataframe\">\n",
       "  <thead>\n",
       "    <tr style=\"text-align: right;\">\n",
       "      <th></th>\n",
       "      <th>count</th>\n",
       "      <th>mean</th>\n",
       "      <th>std</th>\n",
       "      <th>min</th>\n",
       "      <th>25%</th>\n",
       "      <th>50%</th>\n",
       "      <th>75%</th>\n",
       "      <th>max</th>\n",
       "    </tr>\n",
       "  </thead>\n",
       "  <tbody>\n",
       "    <tr>\n",
       "      <td>id_dossier</td>\n",
       "      <td>9498.0</td>\n",
       "      <td>4.790778e+06</td>\n",
       "      <td>130528.377218</td>\n",
       "      <td>4481073.00</td>\n",
       "      <td>4751725.250</td>\n",
       "      <td>4792955.500</td>\n",
       "      <td>4909506.75</td>\n",
       "      <td>5122514.00</td>\n",
       "    </tr>\n",
       "    <tr>\n",
       "      <td>total_dette</td>\n",
       "      <td>9498.0</td>\n",
       "      <td>3.708809e+03</td>\n",
       "      <td>4604.019089</td>\n",
       "      <td>2.54</td>\n",
       "      <td>985.665</td>\n",
       "      <td>2213.535</td>\n",
       "      <td>4563.72</td>\n",
       "      <td>80895.77</td>\n",
       "    </tr>\n",
       "    <tr>\n",
       "      <td>age</td>\n",
       "      <td>9498.0</td>\n",
       "      <td>4.520836e+01</td>\n",
       "      <td>13.054049</td>\n",
       "      <td>4.00</td>\n",
       "      <td>35.000</td>\n",
       "      <td>44.000</td>\n",
       "      <td>54.00</td>\n",
       "      <td>92.00</td>\n",
       "    </tr>\n",
       "    <tr>\n",
       "      <td>age_creance</td>\n",
       "      <td>9498.0</td>\n",
       "      <td>1.635860e+01</td>\n",
       "      <td>33.776696</td>\n",
       "      <td>0.00</td>\n",
       "      <td>1.000</td>\n",
       "      <td>7.000</td>\n",
       "      <td>8.00</td>\n",
       "      <td>119.00</td>\n",
       "    </tr>\n",
       "  </tbody>\n",
       "</table>\n",
       "</div>"
      ],
      "text/plain": [
       "              count          mean            std         min          25%  \\\n",
       "id_dossier   9498.0  4.790778e+06  130528.377218  4481073.00  4751725.250   \n",
       "total_dette  9498.0  3.708809e+03    4604.019089        2.54      985.665   \n",
       "age          9498.0  4.520836e+01      13.054049        4.00       35.000   \n",
       "age_creance  9498.0  1.635860e+01      33.776696        0.00        1.000   \n",
       "\n",
       "                     50%         75%         max  \n",
       "id_dossier   4792955.500  4909506.75  5122514.00  \n",
       "total_dette     2213.535     4563.72    80895.77  \n",
       "age               44.000       54.00       92.00  \n",
       "age_creance        7.000        8.00      119.00  "
      ]
     },
     "execution_count": 29,
     "metadata": {},
     "output_type": "execute_result"
    }
   ],
   "source": [
    "dossiers.describe().T"
   ]
  },
  {
   "cell_type": "code",
   "execution_count": 30,
   "metadata": {},
   "outputs": [
    {
     "data": {
      "text/plain": [
       "id_dossier          0\n",
       "total_dette         0\n",
       "civilite            0\n",
       "telephone_fixe      0\n",
       "telephone_mobile    0\n",
       "email               0\n",
       "adresse_active      0\n",
       "codebiteur          0\n",
       "employeur           0\n",
       "produit_bancaire    0\n",
       "age                 0\n",
       "age_creance         0\n",
       "dtype: int64"
      ]
     },
     "execution_count": 30,
     "metadata": {},
     "output_type": "execute_result"
    }
   ],
   "source": [
    "dossiers['id_dossier'] = pd.Categorical(dossiers['id_dossier'])\n",
    "del dossiers['cpNaissance']\n",
    "dossiers.isna().sum()"
   ]
  },
  {
   "cell_type": "code",
   "execution_count": 31,
   "metadata": {},
   "outputs": [
    {
     "data": {
      "text/plain": [
       "id_dossier          category\n",
       "total_dette          float64\n",
       "civilite              object\n",
       "telephone_fixe        object\n",
       "telephone_mobile      object\n",
       "email                 object\n",
       "adresse_active        object\n",
       "codebiteur            object\n",
       "employeur             object\n",
       "produit_bancaire      object\n",
       "age                  float64\n",
       "age_creance          float64\n",
       "dtype: object"
      ]
     },
     "execution_count": 31,
     "metadata": {},
     "output_type": "execute_result"
    }
   ],
   "source": [
    "dossiers.dtypes"
   ]
  },
  {
   "cell_type": "markdown",
   "metadata": {},
   "source": [
    "### 3.2 Préparation du dataset \"encaissement\""
   ]
  },
  {
   "cell_type": "markdown",
   "metadata": {},
   "source": [
    "Le projet consiste à classer les dossiers qui sont susceptibles d'encaisser. Ce jeu de données constitue donc notre classe. Nous devons donc fusionner les 2 jeux de données.\n",
    "\n",
    "La seule information importante à retenir est la présence d'un paiement. Les autres colonnes ont peut d'importance dans le cadre de ce projet.\n",
    "\n",
    "* Suppression des colonnes __type_reglement__ et __date_reglement__"
   ]
  },
  {
   "cell_type": "code",
   "execution_count": 32,
   "metadata": {},
   "outputs": [],
   "source": [
    "del encaissements['date_reglement']\n",
    "del encaissements['type_reglement']\n",
    "\n",
    "encaissements['id_dossier']= pd.Categorical(encaissements['id_dossier'])"
   ]
  },
  {
   "cell_type": "code",
   "execution_count": 33,
   "metadata": {},
   "outputs": [
    {
     "data": {
      "text/html": [
       "<div>\n",
       "<style scoped>\n",
       "    .dataframe tbody tr th:only-of-type {\n",
       "        vertical-align: middle;\n",
       "    }\n",
       "\n",
       "    .dataframe tbody tr th {\n",
       "        vertical-align: top;\n",
       "    }\n",
       "\n",
       "    .dataframe thead th {\n",
       "        text-align: right;\n",
       "    }\n",
       "</style>\n",
       "<table border=\"1\" class=\"dataframe\">\n",
       "  <thead>\n",
       "    <tr style=\"text-align: right;\">\n",
       "      <th></th>\n",
       "      <th>0</th>\n",
       "      <th>1</th>\n",
       "      <th>2</th>\n",
       "      <th>3</th>\n",
       "      <th>4</th>\n",
       "    </tr>\n",
       "  </thead>\n",
       "  <tbody>\n",
       "    <tr>\n",
       "      <td>id_dossier</td>\n",
       "      <td>4481073</td>\n",
       "      <td>4481075</td>\n",
       "      <td>4481076</td>\n",
       "      <td>4481077</td>\n",
       "      <td>4481079</td>\n",
       "    </tr>\n",
       "    <tr>\n",
       "      <td>total_dette</td>\n",
       "      <td>3918.1</td>\n",
       "      <td>3364.32</td>\n",
       "      <td>9200.5</td>\n",
       "      <td>2082.44</td>\n",
       "      <td>365.71</td>\n",
       "    </tr>\n",
       "    <tr>\n",
       "      <td>civilite</td>\n",
       "      <td>M</td>\n",
       "      <td>M</td>\n",
       "      <td>M</td>\n",
       "      <td>M</td>\n",
       "      <td>INCONNU</td>\n",
       "    </tr>\n",
       "    <tr>\n",
       "      <td>telephone_fixe</td>\n",
       "      <td>NON</td>\n",
       "      <td>NON</td>\n",
       "      <td>OUI</td>\n",
       "      <td>OUI</td>\n",
       "      <td>NON</td>\n",
       "    </tr>\n",
       "    <tr>\n",
       "      <td>telephone_mobile</td>\n",
       "      <td>NON</td>\n",
       "      <td>OUI</td>\n",
       "      <td>NON</td>\n",
       "      <td>NON</td>\n",
       "      <td>OUI</td>\n",
       "    </tr>\n",
       "    <tr>\n",
       "      <td>email</td>\n",
       "      <td>OUI</td>\n",
       "      <td>OUI</td>\n",
       "      <td>NON</td>\n",
       "      <td>NON</td>\n",
       "      <td>OUI</td>\n",
       "    </tr>\n",
       "    <tr>\n",
       "      <td>adresse_active</td>\n",
       "      <td>OUI</td>\n",
       "      <td>OUI</td>\n",
       "      <td>OUI</td>\n",
       "      <td>OUI</td>\n",
       "      <td>OUI</td>\n",
       "    </tr>\n",
       "    <tr>\n",
       "      <td>codebiteur</td>\n",
       "      <td>OUI</td>\n",
       "      <td>OUI</td>\n",
       "      <td>OUI</td>\n",
       "      <td>NON</td>\n",
       "      <td>OUI</td>\n",
       "    </tr>\n",
       "    <tr>\n",
       "      <td>employeur</td>\n",
       "      <td>EMPLOIE</td>\n",
       "      <td>EMPLOIE</td>\n",
       "      <td>EMPLOIE</td>\n",
       "      <td>EMPLOIE</td>\n",
       "      <td>INCONNU</td>\n",
       "    </tr>\n",
       "    <tr>\n",
       "      <td>produit_bancaire</td>\n",
       "      <td>CARTE ACCORD</td>\n",
       "      <td>CARTE ACCORD</td>\n",
       "      <td>CARTE ACCORD</td>\n",
       "      <td>CARTE ACCORD</td>\n",
       "      <td>CARTE ACCORD</td>\n",
       "    </tr>\n",
       "    <tr>\n",
       "      <td>age</td>\n",
       "      <td>49</td>\n",
       "      <td>51</td>\n",
       "      <td>66</td>\n",
       "      <td>52</td>\n",
       "      <td>70</td>\n",
       "    </tr>\n",
       "    <tr>\n",
       "      <td>age_creance</td>\n",
       "      <td>7</td>\n",
       "      <td>6</td>\n",
       "      <td>9</td>\n",
       "      <td>6</td>\n",
       "      <td>6</td>\n",
       "    </tr>\n",
       "    <tr>\n",
       "      <td>montant_reglement</td>\n",
       "      <td>NaN</td>\n",
       "      <td>NaN</td>\n",
       "      <td>NaN</td>\n",
       "      <td>522.44</td>\n",
       "      <td>264.78</td>\n",
       "    </tr>\n",
       "  </tbody>\n",
       "</table>\n",
       "</div>"
      ],
      "text/plain": [
       "                              0             1             2             3  \\\n",
       "id_dossier              4481073       4481075       4481076       4481077   \n",
       "total_dette              3918.1       3364.32        9200.5       2082.44   \n",
       "civilite                      M             M             M             M   \n",
       "telephone_fixe              NON           NON           OUI           OUI   \n",
       "telephone_mobile            NON           OUI           NON           NON   \n",
       "email                       OUI           OUI           NON           NON   \n",
       "adresse_active              OUI           OUI           OUI           OUI   \n",
       "codebiteur                  OUI           OUI           OUI           NON   \n",
       "employeur               EMPLOIE       EMPLOIE       EMPLOIE       EMPLOIE   \n",
       "produit_bancaire   CARTE ACCORD  CARTE ACCORD  CARTE ACCORD  CARTE ACCORD   \n",
       "age                          49            51            66            52   \n",
       "age_creance                   7             6             9             6   \n",
       "montant_reglement           NaN           NaN           NaN        522.44   \n",
       "\n",
       "                              4  \n",
       "id_dossier              4481079  \n",
       "total_dette              365.71  \n",
       "civilite                INCONNU  \n",
       "telephone_fixe              NON  \n",
       "telephone_mobile            OUI  \n",
       "email                       OUI  \n",
       "adresse_active              OUI  \n",
       "codebiteur                  OUI  \n",
       "employeur               INCONNU  \n",
       "produit_bancaire   CARTE ACCORD  \n",
       "age                          70  \n",
       "age_creance                   6  \n",
       "montant_reglement        264.78  "
      ]
     },
     "execution_count": 33,
     "metadata": {},
     "output_type": "execute_result"
    }
   ],
   "source": [
    "dataset = dossiers.merge(encaissements, left_on='id_dossier',right_on='id_dossier', how='left')\n",
    "dataset.head().T"
   ]
  },
  {
   "cell_type": "code",
   "execution_count": 34,
   "metadata": {},
   "outputs": [
    {
     "data": {
      "text/plain": [
       "id_dossier              0\n",
       "total_dette             0\n",
       "civilite                0\n",
       "telephone_fixe          0\n",
       "telephone_mobile        0\n",
       "email                   0\n",
       "adresse_active          0\n",
       "codebiteur              0\n",
       "employeur               0\n",
       "produit_bancaire        0\n",
       "age                     0\n",
       "age_creance             0\n",
       "montant_reglement    8450\n",
       "dtype: int64"
      ]
     },
     "execution_count": 34,
     "metadata": {},
     "output_type": "execute_result"
    }
   ],
   "source": [
    "dataset.isna().sum()"
   ]
  },
  {
   "cell_type": "markdown",
   "metadata": {},
   "source": [
    "Nous avons donc 8450 dossiers sur lesquels nous n'avons pas de paiement. Nous allons ajouter une colonne (la classe), appelée __payeur__, puis nous supprimerons la colonne __montant_reglement__"
   ]
  },
  {
   "cell_type": "code",
   "execution_count": 35,
   "metadata": {},
   "outputs": [],
   "source": [
    "dataset['payeur']= np.where(dataset['montant_reglement'].isna(),'NON', 'OUI')"
   ]
  },
  {
   "cell_type": "code",
   "execution_count": 36,
   "metadata": {},
   "outputs": [
    {
     "data": {
      "text/plain": [
       "id_dossier              0\n",
       "total_dette             0\n",
       "civilite                0\n",
       "telephone_fixe          0\n",
       "telephone_mobile        0\n",
       "email                   0\n",
       "adresse_active          0\n",
       "codebiteur              0\n",
       "employeur               0\n",
       "produit_bancaire        0\n",
       "age                     0\n",
       "age_creance             0\n",
       "montant_reglement    8450\n",
       "payeur                  0\n",
       "dtype: int64"
      ]
     },
     "execution_count": 36,
     "metadata": {},
     "output_type": "execute_result"
    }
   ],
   "source": [
    "dataset.isna().sum()"
   ]
  },
  {
   "cell_type": "code",
   "execution_count": 37,
   "metadata": {},
   "outputs": [],
   "source": [
    "del dataset['montant_reglement']\n",
    "del dataset['id_dossier']\n",
    "\n",
    "dataset['telephone_fixe'] = pd.Categorical(dataset['telephone_fixe'])\n",
    "dataset['telephone_mobile'] = pd.Categorical(dataset['telephone_mobile'])\n",
    "dataset['email'] = pd.Categorical(dataset['email'])\n",
    "dataset['adresse_active'] = pd.Categorical(dataset['email'])\n",
    "dataset['civilite'] = pd.Categorical(dataset['civilite'])\n",
    "dataset['codebiteur'] = pd.Categorical(dataset['codebiteur'])\n",
    "dataset['employeur'] = pd.Categorical(dataset['employeur'])\n",
    "dataset['produit_bancaire'] = pd.Categorical(dataset['produit_bancaire'])\n",
    "dataset['payeur'] = pd.Categorical(dataset['payeur'])"
   ]
  },
  {
   "cell_type": "code",
   "execution_count": 38,
   "metadata": {},
   "outputs": [
    {
     "data": {
      "text/plain": [
       "total_dette          float64\n",
       "civilite            category\n",
       "telephone_fixe      category\n",
       "telephone_mobile    category\n",
       "email               category\n",
       "adresse_active      category\n",
       "codebiteur          category\n",
       "employeur           category\n",
       "produit_bancaire    category\n",
       "age                  float64\n",
       "age_creance          float64\n",
       "payeur              category\n",
       "dtype: object"
      ]
     },
     "execution_count": 38,
     "metadata": {},
     "output_type": "execute_result"
    }
   ],
   "source": [
    "dataset.dtypes"
   ]
  },
  {
   "cell_type": "markdown",
   "metadata": {},
   "source": [
    "## 4. Exploration et visualisation"
   ]
  },
  {
   "cell_type": "markdown",
   "metadata": {},
   "source": [
    "Avant de construire les modèles, il est important de comprendre les caractéristiques des données qui vont être utilisées. Nous allons donc visualiser et explorer les données."
   ]
  },
  {
   "cell_type": "markdown",
   "metadata": {},
   "source": [
    "### 4.1 Exploration des varaibles catégorielles"
   ]
  },
  {
   "cell_type": "code",
   "execution_count": 39,
   "metadata": {},
   "outputs": [
    {
     "data": {
      "text/html": [
       "<div>\n",
       "<style scoped>\n",
       "    .dataframe tbody tr th:only-of-type {\n",
       "        vertical-align: middle;\n",
       "    }\n",
       "\n",
       "    .dataframe tbody tr th {\n",
       "        vertical-align: top;\n",
       "    }\n",
       "\n",
       "    .dataframe thead th {\n",
       "        text-align: right;\n",
       "    }\n",
       "</style>\n",
       "<table border=\"1\" class=\"dataframe\">\n",
       "  <thead>\n",
       "    <tr style=\"text-align: right;\">\n",
       "      <th></th>\n",
       "      <th>count</th>\n",
       "      <th>unique</th>\n",
       "      <th>top</th>\n",
       "      <th>freq</th>\n",
       "    </tr>\n",
       "  </thead>\n",
       "  <tbody>\n",
       "    <tr>\n",
       "      <td>civilite</td>\n",
       "      <td>9498</td>\n",
       "      <td>3</td>\n",
       "      <td>M</td>\n",
       "      <td>5893</td>\n",
       "    </tr>\n",
       "    <tr>\n",
       "      <td>telephone_fixe</td>\n",
       "      <td>9498</td>\n",
       "      <td>2</td>\n",
       "      <td>NON</td>\n",
       "      <td>7468</td>\n",
       "    </tr>\n",
       "    <tr>\n",
       "      <td>telephone_mobile</td>\n",
       "      <td>9498</td>\n",
       "      <td>2</td>\n",
       "      <td>OUI</td>\n",
       "      <td>5963</td>\n",
       "    </tr>\n",
       "    <tr>\n",
       "      <td>email</td>\n",
       "      <td>9498</td>\n",
       "      <td>2</td>\n",
       "      <td>NON</td>\n",
       "      <td>7605</td>\n",
       "    </tr>\n",
       "    <tr>\n",
       "      <td>adresse_active</td>\n",
       "      <td>9498</td>\n",
       "      <td>2</td>\n",
       "      <td>NON</td>\n",
       "      <td>7605</td>\n",
       "    </tr>\n",
       "    <tr>\n",
       "      <td>codebiteur</td>\n",
       "      <td>9498</td>\n",
       "      <td>2</td>\n",
       "      <td>OUI</td>\n",
       "      <td>8834</td>\n",
       "    </tr>\n",
       "    <tr>\n",
       "      <td>employeur</td>\n",
       "      <td>9498</td>\n",
       "      <td>4</td>\n",
       "      <td>INCONNU</td>\n",
       "      <td>8687</td>\n",
       "    </tr>\n",
       "    <tr>\n",
       "      <td>produit_bancaire</td>\n",
       "      <td>9498</td>\n",
       "      <td>43</td>\n",
       "      <td>INCONNU</td>\n",
       "      <td>5267</td>\n",
       "    </tr>\n",
       "    <tr>\n",
       "      <td>payeur</td>\n",
       "      <td>9498</td>\n",
       "      <td>2</td>\n",
       "      <td>NON</td>\n",
       "      <td>8450</td>\n",
       "    </tr>\n",
       "  </tbody>\n",
       "</table>\n",
       "</div>"
      ],
      "text/plain": [
       "                 count unique      top  freq\n",
       "civilite          9498      3        M  5893\n",
       "telephone_fixe    9498      2      NON  7468\n",
       "telephone_mobile  9498      2      OUI  5963\n",
       "email             9498      2      NON  7605\n",
       "adresse_active    9498      2      NON  7605\n",
       "codebiteur        9498      2      OUI  8834\n",
       "employeur         9498      4  INCONNU  8687\n",
       "produit_bancaire  9498     43  INCONNU  5267\n",
       "payeur            9498      2      NON  8450"
      ]
     },
     "execution_count": 39,
     "metadata": {},
     "output_type": "execute_result"
    }
   ],
   "source": [
    "dataCategorical = dataset.select_dtypes(include='category')\n",
    "dataCategorical.describe().T"
   ]
  },
  {
   "cell_type": "markdown",
   "metadata": {},
   "source": [
    "La répartition de la classe:"
   ]
  },
  {
   "cell_type": "code",
   "execution_count": 40,
   "metadata": {},
   "outputs": [
    {
     "data": {
      "image/png": "[encoded data removed]",
      "text/plain": [
       "<Figure size 360x360 with 1 Axes>"
      ]
     },
     "metadata": {
      "needs_background": "light"
     },
     "output_type": "display_data"
    }
   ],
   "source": [
    "sns.catplot(x=\"payeur\", kind=\"count\", palette=\"ch:.25\", data=dataCategorical);"
   ]
  },
  {
   "cell_type": "markdown",
   "metadata": {},
   "source": [
    "Nous avons une réponse déséquilibrée:"
   ]
  },
  {
   "cell_type": "code",
   "execution_count": 41,
   "metadata": {},
   "outputs": [
    {
     "name": "stdout",
     "output_type": "stream",
     "text": [
      "Proportion des OUI:  11.03 %\n",
      "Proportion des NON:  88.97 %\n"
     ]
    }
   ],
   "source": [
    "shapeYes = dataCategorical[dataCategorical['payeur'] == 'OUI'].shape\n",
    "shapeAll  = dataCategorical.shape\n",
    "pourcent  = shapeYes[0]*100/shapeAll[0]\n",
    "print(\"Proportion des OUI: \", round(pourcent,2),'%')\n",
    "print(\"Proportion des NON: \", round(100-pourcent,2),'%')"
   ]
  },
  {
   "cell_type": "code",
   "execution_count": null,
   "metadata": {},
   "outputs": [],
   "source": []
  },
  {
   "cell_type": "markdown",
   "metadata": {},
   "source": [
    "Afin d'analyser les relations entre les variables catégorielles, nous allons procéder à une __Principal Component Analysis (PCA)__.\n",
    "\n",
    "* ACP sur les observations"
   ]
  },
  {
   "cell_type": "code",
   "execution_count": 42,
   "metadata": {},
   "outputs": [
    {
     "name": "stdout",
     "output_type": "stream",
     "text": [
      "[2.34998234e-01 1.57312881e-01 1.38261000e-01 1.26765558e-01\n",
      " 8.64114592e-02 6.10642813e-02 5.44067394e-02 3.54347026e-02\n",
      " 2.72292199e-02 1.46462965e-02 1.18698378e-02 9.38028677e-03\n",
      " 9.07287390e-03 6.59645342e-03 5.68277467e-03 3.08810266e-03\n",
      " 2.64826462e-03 2.24993211e-03 2.06500100e-03 1.72435867e-03\n",
      " 1.22053373e-03 1.04400947e-03 9.31484956e-04 7.44795840e-04\n",
      " 6.64818754e-04 5.79663461e-04 5.32491817e-04 5.03995772e-04\n",
      " 3.74246210e-04 3.16759840e-04 2.84514999e-04 2.53018418e-04\n",
      " 2.34413454e-04 2.14332675e-04 1.99318290e-04 1.17254318e-04\n",
      " 1.02839158e-04 1.02501467e-04 1.01089356e-04 7.38580257e-05\n",
      " 6.84216086e-05 6.78108304e-05 4.49295927e-05 4.13130295e-05\n",
      " 3.42892704e-05 3.42892704e-05 3.42870656e-05 3.42554303e-05\n",
      " 3.42471797e-05 3.42183408e-05 3.41005614e-05 3.36405302e-05\n",
      " 4.05578380e-31 3.61145298e-32 1.93890205e-32 5.56297538e-33\n",
      " 5.27028390e-33 4.15395789e-33 1.35841700e-33 1.35841700e-33\n",
      " 8.13942285e-34 3.50132325e-34]\n"
     ]
    },
    {
     "data": {
      "image/png": "[encoded data removed]",
      "text/plain": [
       "<Figure size 432x288 with 1 Axes>"
      ]
     },
     "metadata": {
      "needs_background": "light"
     },
     "output_type": "display_data"
    }
   ],
   "source": [
    "from sklearn.decomposition import PCA\n",
    "\n",
    "cat_dummies = pd.get_dummies(dataCategorical)\n",
    "pca = PCA()\n",
    "\n",
    "pcaFit = pca.fit(cat_dummies)\n",
    "\n",
    "#Proportions de variance expliquée\n",
    "print(pca.explained_variance_ratio_)\n",
    "\n",
    "plt.plot(pca.explained_variance_ratio_,'.')\n",
    "plt.show()"
   ]
  },
  {
   "cell_type": "markdown",
   "metadata": {},
   "source": [
    "Le premier axe explique 23.5 % de la variance dans l'échantillon. Les 4 premiers axes expliquent 66% de la variance. Nous retiendrons donc les 4 premiers axes.\n",
    "\n",
    "* Transformons en ACP dans le nuage des variables"
   ]
  },
  {
   "cell_type": "code",
   "execution_count": 43,
   "metadata": {},
   "outputs": [
    {
     "data": {
      "image/png": "[encoded data removed]",
      "text/plain": [
       "<Figure size 1440x1440 with 1 Axes>"
      ]
     },
     "metadata": {
      "needs_background": "light"
     },
     "output_type": "display_data"
    }
   ],
   "source": [
    "projected = pca.transform(cat_dummies)\n",
    "cat_dummies_trans = cat_dummies.T\n",
    "\n",
    "# Préparation pour le calcul des projections de variables\n",
    "irlambdas = 1/np.sqrt(pca.explained_variance_)\n",
    "mirlambdas = np.diagflat(irlambdas)\n",
    "\n",
    "projectionsVars = (cat_dummies_trans.dot(projected)).dot(mirlambdas)/cat_dummies.shape[0]\n",
    "\n",
    "nomsVars = cat_dummies.columns\n",
    "\n",
    "fig = plt.figure()\n",
    "fig.set_figheight(20)\n",
    "fig.set_figwidth(20)\n",
    "ax = fig.add_subplot(111)\n",
    "ax.set_autoscalex_on(False)\n",
    "ax.set_autoscaley_on(False)\n",
    "ax.set_xlim([-1, 1])\n",
    "ax.set_ylim([-1, 1])\n",
    "cercle = plt.Circle((0, 0), 1, color='b', fill=False)\n",
    "ax.add_artist(cercle)\n",
    "\n",
    "for i in projectionsVars.columns:\n",
    "    \n",
    "    x,y = projectionsVars[i][0],projectionsVars[i][1]\n",
    "    ax.scatter(x,y)\n",
    "    ax.arrow(0, 0, x, y, shape='full', lw=1, length_includes_head=True)\n",
    "    ax.text(x,y,nomsVars[i])\n",
    "\n",
    "plt.show()"
   ]
  },
  {
   "cell_type": "markdown",
   "metadata": {},
   "source": [
    "Vu le nombre élevé de modalités, la lisibilité du graphique n'est pas très bonne.\n",
    "\n",
    "La projection dans le nuage des variables nous montre certains liens. \n",
    "\n",
    "* Les prêts bancaires de type __trésorerie__ sont corrélés avec les dossiers qui paient.\n",
    "* Il y a une correlation forte entre les dossiers sans moyens de contacts et les dossiers non payeurs\n",
    "* Il y a une forte correlation entre\n"
   ]
  },
  {
   "cell_type": "markdown",
   "metadata": {},
   "source": [
    "### 4.2 Conclusion sur la visualisation et l'exploration"
   ]
  },
  {
   "cell_type": "markdown",
   "metadata": {},
   "source": [
    "Nous avons observé un déséquilibre sur la réponse. Nous allons donc prendre des précautions appropriées pour modeliser.\n",
    "\n",
    "Nous allons construire plusieurs modèles, avec différentes méthodes, le tout en utilisant la __validation croisée (K-Fold)__. Nous comparerons les performances sur l'échantillon de test avec l'air sous la courbe ROC (AUC)."
   ]
  },
  {
   "cell_type": "markdown",
   "metadata": {},
   "source": [
    "### 4.3 Préparation de la modélisation"
   ]
  },
  {
   "cell_type": "markdown",
   "metadata": {},
   "source": [
    "Nous avons montré que l'échantillon avait 2 caractéristiques importantes:\n",
    "\n",
    "* Certaines variables sont correlées\n",
    "* La classe est déséquilibrée\n",
    "\n",
    "Ces deux caractéristiques nous imposent certaines précaution lors de la modélisation, notamment pour la validation croisée.\n",
    "\n",
    "#### a. Le déséquilibre de la classe\n",
    "\n",
    "Le déséquilibre de la classe (__payeur__) nous impose des précautions:\n",
    "\n",
    "* __Partitionnement stratifié__: Les échantillons d'apprentissage et de test seront créés de façon stratifiés. Cela permettra de garantir que les 2 classes restent proportionnellement réparties dans les données d'apprentissage et de test. Pour cela nous utiliserons le paramètre __stratify__ de la méthode __train_test_split__ de Scikit-Learn.\n",
    "\n",
    "* __Cross-validation stratifiée__: Sur la partition d'entrainement, nous utiliserons la méthode __StratifiedKFold__ de Scikit-learn pour créer les _Fold_. Idem, le but est de grantir que le modèle sera appris et testé sur des données ayant la même représentativité.\n",
    "\n",
    "#### b. La corrélation entre varaibles\n",
    "\n",
    "Pour limiter les effets négatifs de la corrélation, nous utiliserons des méthodes qui sont insensibles à la corrélation des variables.\n",
    "\n",
    "#### c. Encodage des variables catégorielles\n",
    "\n",
    "Afin de modéliser, nous allons de transformer les variables catégorielles en variables numériques. Les modèles n'intègrent pas cette fonctionnalité par défaut (contrairement à R)"
   ]
  },
  {
   "cell_type": "markdown",
   "metadata": {},
   "source": [
    "### 4.4 Protocole de modélisation"
   ]
  },
  {
   "cell_type": "markdown",
   "metadata": {},
   "source": [
    "Pour chaque modèle créé, voici les étapes qui seront réalisées:\n",
    "\n",
    "* Partition des données: \n",
    "    * Données d'apprentissage __X_train__, __y_train__ (la réponse), \n",
    "    * Données de test: __X_test__ et __y_test__\n",
    "* Choix des méthodes\n",
    "* Apprendissage et validation par __validation croisée__\n",
    "* Optimisation des hyperparamètres par grille (_Grid search_) pour les méthodes qui ont des hyperparamètres\n",
    "* Représentation graphique des performances (Pour chaque combinaison des valeurs des hyperparamètres)\n",
    "* Détermination de la matrice de confusion pour chaque méthode\n",
    "* Détermination de l'_AUC_ (Air Under Curve) de la courbe ROC pour chaque méthode\n",
    "* Déduction du modèle qui généralise le mieux.\n",
    "\n",
    "L'_AUC_ nous permettra de comparer les modèles obtenus et de sélectionner celui qui généralisera le mieux."
   ]
  },
  {
   "cell_type": "markdown",
   "metadata": {},
   "source": [
    "## 5. Modélisation"
   ]
  },
  {
   "cell_type": "markdown",
   "metadata": {},
   "source": [
    "### 5.1 Création des partitions\n",
    "\n",
    "Nous l'avons expliqué plus haut, nous allons créer les partitions stratifiée.\n",
    "\n",
    "Nous allons répartir les données en 3 ensembles:\n",
    "\n",
    "* Une partition pour l'apprentissage (construction des modèles): X_train et y_train\n",
    "* Une partition de test (pour tester chaque modèle): X_test et y_test\n",
    "* Une partition de validation (pour comparer les modèles et sélectionner le meilleur): X_val et y_val\n",
    "\n",
    "\n",
    "Avant de créer les partitions, les données doivent être encoder. Particulièrement les variables catégorielles. Nous allons utiliser l'encodage __one-hot__. Nous utilisons le package __Pandas__:"
   ]
  },
  {
   "cell_type": "code",
   "execution_count": 44,
   "metadata": {},
   "outputs": [
    {
     "name": "stdout",
     "output_type": "stream",
     "text": [
      "Echantillon d'apprentissage:  (4749, 63)\n",
      "Echantillon de test:  (3799, 63)\n",
      "Echantillon de validation:  (950, 63)\n"
     ]
    }
   ],
   "source": [
    "from sklearn.model_selection import train_test_split\n",
    "\n",
    "rawX = dataset.loc[:, dataset.columns != 'payeur']\n",
    "\n",
    "#Encodeage des variables catégorielles en numériques\n",
    "dummiesX = pd.get_dummies(rawX)\n",
    "\n",
    "#On retient que les valeurs\n",
    "X    = dummiesX.values\n",
    "\n",
    "rawY      = dataset.loc[:, dataset.columns == 'payeur']\n",
    "dummiesY  = pd.get_dummies(rawY)\n",
    "Y         = dummiesY[\"payeur_OUI\"]\n",
    "\n",
    "# On partitionne une première fois pour créer la partition utilisée pour l'apprentissage\n",
    "X_train, XVal_test, y_train, yval_test = train_test_split(X, Y, test_size=0.5, stratify=Y)\n",
    "\n",
    "#On partitionne encore popur créer les partition de test et de de validation\n",
    "X_test, X_val, y_test, y_val = train_test_split(XVal_test, yval_test, test_size=0.2, stratify=yval_test)\n",
    "\n",
    "print(\"Echantillon d'apprentissage: \", X_train.shape)\n",
    "print(\"Echantillon de test: \",X_test.shape)\n",
    "print(\"Echantillon de validation: \",X_val.shape)\n"
   ]
  },
  {
   "cell_type": "markdown",
   "metadata": {},
   "source": [
    "### 5.2 Choix des méthodes\n",
    "\n",
    "Nous allons choisir plusieurs familles de méthodes parmi lesquels nous chercherons le modèle qui généralise le mieux (en sappuyant sur la courbe ROC). Nous avons donc choisis:\n",
    "\n",
    "1. La régression logistique simple\n",
    "2. Le Gradient Boosting\n",
    "3. L'arbre de décision CART\n",
    "4. le Random Forest \n",
    "5. Et enfin le Boosting\n",
    "\n",
    "Fixons les paramètres de la validation croisée qui sera utilisée:"
   ]
  },
  {
   "cell_type": "code",
   "execution_count": 45,
   "metadata": {},
   "outputs": [],
   "source": [
    "from sklearn.model_selection import KFold\n",
    "from sklearn.model_selection import GridSearchCV\n",
    "from sklearn import metrics\n",
    "from sklearn.metrics import roc_curve\n",
    "from sklearn.metrics import roc_auc_score\n",
    "\n",
    "CrossValidationFolds = np.array([5, 7, 10, 13, 16, 20])"
   ]
  },
  {
   "cell_type": "markdown",
   "metadata": {},
   "source": [
    "### 5.3 Modélisation\n",
    "\n",
    "\n",
    "Les étapes de modélisation seront les memes pour toutes les méthodes. Nous allons donc créer une focntion qui exécute notre protocole de modélisation.\n",
    "\n",
    "Cette méthode retourne le modèle ayant la valeur de l'Air Sous la Courbe (Air Under Curve) de la courbe ROC la plus élévée.\n",
    "\n",
    "__Note:__ La méthode __GridSearchCV__ utilise par défaut un partitionnement __stratifié__."
   ]
  },
  {
   "cell_type": "code",
   "execution_count": 46,
   "metadata": {},
   "outputs": [],
   "source": [
    "def myGridSearch(model, grid_params, kfolds, trainX, trainY, testX, testY):\n",
    "    if model is None or kfolds is None:\n",
    "        return\n",
    "    BestTrainScore = list()\n",
    "    TestScores = list()\n",
    "    TestScoresStd = list()\n",
    "    auc    = list()\n",
    "    BestParams  = list()\n",
    "    maxAuc    = 0\n",
    "    bestModel = model\n",
    "    \n",
    "    # Nous allons faire plusieurs tirages:\n",
    "    for k in kfolds:\n",
    "        # Construction d'un model avec un nombre k de de Fold\n",
    "        gridModel = GridSearchCV(model, grid_params,error_score='raise', cv=k)\n",
    "        gridModel.fit(trainX, trainY)\n",
    "        \n",
    "        #refit = true par défaut. Nous pouvons donc tester le meilleur directement:\n",
    "        BestTrainScore.append(gridModel.best_score_)\n",
    "        TestScores.append(gridModel.score(testX, testY))\n",
    "        \n",
    "        # Calcul de la courbe ROC et de l'aire sous la courbe (AUC)\n",
    "        predictions = gridModel.predict(testX)\n",
    "        thisAuc = roc_auc_score(testY,predictions)\n",
    "        auc.append(thisAuc)\n",
    "        \n",
    "        #On retient le model le plus performant grace à l'AUC\n",
    "        if thisAuc > maxAuc:\n",
    "            bestModel = gridModel\n",
    "            maxAuc = thisAuc\n",
    "    \n",
    "    #Résultats graphiques\n",
    "    fig, ax = plt.subplots()\n",
    "    ax.plot(kfolds, BestTrainScore, 'b--', label='Train score')\n",
    "    ax.plot(kfolds, TestScores, 'r--', label='Test scores')\n",
    "    ax.plot(kfolds, auc, 'g--', label='AUC')\n",
    "    leg = ax.legend();\n",
    "    \n",
    "    print(\"Mean train score: %0.2f\"%np.mean(BestTrainScore), \" / STD train score: %0.2f\"% np.std(BestTrainScore), \" / Max train score: %0.2f\"% np.max(BestTrainScore),\" / Min train score: %0.2f\"% np.min(BestTrainScore))\n",
    "    print(\"Mean test score: %0.2f\"%np.mean(TestScores), \" / STD test score: %0.2f\"% np.std(TestScores), \" / Max test score: %0.2f\"% np.max(TestScores), \" / Min test score: %0.2f\"% np.min(TestScores))\n",
    "    print(\"Mean AUC: %0.2f\"% np.mean(auc), \" / Std AUC: %0.2f\"% np.std(auc), \" / Max AUC: %0.2f\"% maxAuc, \" / Min AUC: %0.2f\"% np.min(auc))\n",
    "    \n",
    "    return bestModel"
   ]
  },
  {
   "cell_type": "markdown",
   "metadata": {},
   "source": [
    "* __La regréssion logistique__"
   ]
  },
  {
   "cell_type": "code",
   "execution_count": 47,
   "metadata": {},
   "outputs": [
    {
     "name": "stdout",
     "output_type": "stream",
     "text": [
      "Mean train score: 0.90  / STD train score: 0.00  / Max train score: 0.90  / Min train score: 0.90\n",
      "Mean test score: 0.90  / STD test score: 0.00  / Max test score: 0.90  / Min test score: 0.90\n",
      "Mean AUC: 0.54  / Std AUC: 0.01  / Max AUC: 0.57  / Min AUC: 0.53\n",
      "Les meilleurs paramètres:  {'C': 0.05, 'max_iter': 50, 'tol': 0.0001}\n"
     ]
    },
    {
     "data": {
      "image/png": "[encoded data removed]",
      "text/plain": [
       "<Figure size 432x288 with 1 Axes>"
      ]
     },
     "metadata": {
      "needs_background": "light"
     },
     "output_type": "display_data"
    }
   ],
   "source": [
    "from sklearn.linear_model import LogisticRegression\n",
    "# Le paramètre à optimiser: La valeur du coéficient de régularisation\n",
    "\n",
    "grid_params = {\n",
    "    'C': [0.001, 0.005, 0.01, 0.05, 1,1.5],\n",
    "    'tol': [1e-5,1e-4,1e-3,1e-2,1e-1],\n",
    "    \"max_iter\": [50,100,200,300]\n",
    "}\n",
    "\n",
    "lr = LogisticRegression(solver = 'liblinear',verbose=0)\n",
    "modelLR = myGridSearch(lr, grid_params, CrossValidationFolds, X_train, y_train, X_test, y_test)\n",
    "print(\"Les meilleurs paramètres: \", modelLR.best_params_)"
   ]
  },
  {
   "cell_type": "markdown",
   "metadata": {},
   "source": [
    "* __Le Gradient Boosting__"
   ]
  },
  {
   "cell_type": "code",
   "execution_count": 48,
   "metadata": {},
   "outputs": [
    {
     "name": "stdout",
     "output_type": "stream",
     "text": [
      "Mean train score: 0.90  / STD train score: 0.00  / Max train score: 0.90  / Min train score: 0.90\n",
      "Mean test score: 0.90  / STD test score: 0.00  / Max test score: 0.90  / Min test score: 0.90\n",
      "Mean AUC: 0.58  / Std AUC: 0.02  / Max AUC: 0.62  / Min AUC: 0.57\n",
      "Les meilleurs paramètres:  {'learning_rate': 0.1, 'loss': 'exponential', 'max_depth': 5, 'n_estimators': 200}\n"
     ]
    },
    {
     "data": {
      "image/png": "[encoded data removed]",
      "text/plain": [
       "<Figure size 432x288 with 1 Axes>"
      ]
     },
     "metadata": {
      "needs_background": "light"
     },
     "output_type": "display_data"
    }
   ],
   "source": [
    "from sklearn.ensemble import GradientBoostingClassifier\n",
    "\n",
    "grid_params = {\n",
    "    'loss': ['deviance', 'exponential'],\n",
    "    'learning_rate': [0.0001,0.001,0.1],\n",
    "    \"n_estimators\": [100,200,300],\n",
    "    \"max_depth\": [2,3,5,10]\n",
    "}\n",
    "\n",
    "gb = GradientBoostingClassifier(verbose=0)\n",
    "modelGB = myGridSearch(gb, grid_params, CrossValidationFolds, X_train, y_train, X_test, y_test)\n",
    "print(\"Les meilleurs paramètres: \", modelGB.best_params_)"
   ]
  },
  {
   "cell_type": "markdown",
   "metadata": {},
   "source": [
    "* __Arbre de décision__"
   ]
  },
  {
   "cell_type": "code",
   "execution_count": 49,
   "metadata": {},
   "outputs": [
    {
     "name": "stdout",
     "output_type": "stream",
     "text": [
      "Mean train score: 0.90  / STD train score: 0.00  / Max train score: 0.90  / Min train score: 0.90\n",
      "Mean test score: 0.90  / STD test score: 0.00  / Max test score: 0.90  / Min test score: 0.90\n",
      "Mean AUC: 0.59  / Std AUC: 0.01  / Max AUC: 0.60  / Min AUC: 0.59\n",
      "Les meilleurs paramètres:  {'criterion': 'entropy', 'max_depth': 6, 'min_samples_split': 15}\n"
     ]
    },
    {
     "data": {
      "image/png": "[encoded data removed]",
      "text/plain": [
       "<Figure size 432x288 with 1 Axes>"
      ]
     },
     "metadata": {
      "needs_background": "light"
     },
     "output_type": "display_data"
    }
   ],
   "source": [
    "from sklearn import tree\n",
    "\n",
    "tr = tree.DecisionTreeClassifier()\n",
    "grid_params = {'criterion': ['gini', 'entropy'],\"max_depth\": [1, 2, 3, 4, 5, 6, 7,8,10], \"min_samples_split\": [2, 3, 5, 10, 15, 20]}\n",
    "modelTree = myGridSearch(tr, grid_params, CrossValidationFolds, X_train, y_train, X_test, y_test)\n",
    "\n",
    "print(\"Les meilleurs paramètres: \",modelTree.best_params_)"
   ]
  },
  {
   "cell_type": "markdown",
   "metadata": {},
   "source": [
    "* __Random Forest__"
   ]
  },
  {
   "cell_type": "code",
   "execution_count": 53,
   "metadata": {},
   "outputs": [
    {
     "name": "stdout",
     "output_type": "stream",
     "text": [
      "Mean train score: 0.90  / STD train score: 0.00  / Max train score: 0.90  / Min train score: 0.90\n",
      "Mean test score: 0.90  / STD test score: 0.00  / Max test score: 0.90  / Min test score: 0.90\n",
      "Mean AUC: 0.56  / Std AUC: 0.01  / Max AUC: 0.57  / Min AUC: 0.55\n",
      "Les meilleurs paramètres:  {'class_weight': None, 'criterion': 'entropy', 'max_depth': 10, 'min_samples_leaf': 2, 'min_samples_split': 5, 'n_estimators': 20}\n"
     ]
    },
    {
     "data": {
      "image/png": "[encoded data removed]",
      "text/plain": [
       "<Figure size 432x288 with 1 Axes>"
      ]
     },
     "metadata": {
      "needs_background": "light"
     },
     "output_type": "display_data"
    }
   ],
   "source": [
    "from sklearn.ensemble import RandomForestClassifier\n",
    "\n",
    "rf = RandomForestClassifier(verbose = 0)\n",
    "\n",
    "grid_params = {\"n_estimators\": [20,50, 100,200,300],\n",
    "               \"criterion\": ['gini', 'entropy'],\n",
    "               'max_depth': [2,3,5,10],\n",
    "               'min_samples_split': [2,5,10],\n",
    "               'min_samples_leaf': [2,3,5,10],\n",
    "               \"class_weight\": ['balanced', 'balanced_subsample', None]\n",
    "              }\n",
    "modelRF = myGridSearch(rf, grid_params, CrossValidationFolds, X_train, y_train, X_test, y_test)\n",
    "print(\"Les meilleurs paramètres: \",modelRF.best_params_)"
   ]
  },
  {
   "cell_type": "markdown",
   "metadata": {},
   "source": [
    "* __Le boosting__"
   ]
  },
  {
   "cell_type": "code",
   "execution_count": 54,
   "metadata": {},
   "outputs": [
    {
     "name": "stderr",
     "output_type": "stream",
     "text": [
      "C:\\ProgramData\\Anaconda3\\lib\\site-packages\\sklearn\\model_selection\\_search.py:813: DeprecationWarning: The default of the `iid` parameter will change from True to False in version 0.22 and will be removed in 0.24. This will change numeric results when test-set sizes are unequal.\n",
      "  DeprecationWarning)\n",
      "C:\\ProgramData\\Anaconda3\\lib\\site-packages\\sklearn\\model_selection\\_search.py:813: DeprecationWarning: The default of the `iid` parameter will change from True to False in version 0.22 and will be removed in 0.24. This will change numeric results when test-set sizes are unequal.\n",
      "  DeprecationWarning)\n",
      "C:\\ProgramData\\Anaconda3\\lib\\site-packages\\sklearn\\model_selection\\_search.py:813: DeprecationWarning: The default of the `iid` parameter will change from True to False in version 0.22 and will be removed in 0.24. This will change numeric results when test-set sizes are unequal.\n",
      "  DeprecationWarning)\n"
     ]
    },
    {
     "name": "stdout",
     "output_type": "stream",
     "text": [
      "Mean train score: 0.89  / STD train score: 0.00  / Max train score: 0.89  / Min train score: 0.89\n",
      "Mean test score: 0.90  / STD test score: 0.00  / Max test score: 0.90  / Min test score: 0.90\n",
      "Mean AUC: 0.57  / Std AUC: 0.00  / Max AUC: 0.57  / Min AUC: 0.56\n",
      "Les meilleurs paramètres:  {'learning_rate': 1, 'n_estimators': 20}\n"
     ]
    },
    {
     "data": {
      "image/png": "[encoded data removed]",
      "text/plain": [
       "<Figure size 432x288 with 1 Axes>"
      ]
     },
     "metadata": {
      "needs_background": "light"
     },
     "output_type": "display_data"
    }
   ],
   "source": [
    "from sklearn.ensemble import AdaBoostClassifier\n",
    "\n",
    "boosting = AdaBoostClassifier(base_estimator=tree.DecisionTreeClassifier(max_depth=1))\n",
    "\n",
    "grid_params = {\"n_estimators\": [20,50, 100,200,300], \n",
    "               \"learning_rate\": [0.01,0.1, 0.2, 0.5, 1,2]\n",
    "              }\n",
    "modelBoosting = myGridSearch(boosting, grid_params, CrossValidationFolds, X_train, y_train, X_test, y_test)\n",
    "print(\"Les meilleurs paramètres: \",modelBoosting.best_params_)"
   ]
  },
  {
   "cell_type": "markdown",
   "metadata": {},
   "source": [
    "### 5.4 Sélection du meilleur modèle\n",
    "\n",
    "Nous avons donc 4 modèle évalués. Grâce aux données de validation (X_val et y_val) nous allons pour chaque modèle:\n",
    "* Calculer un score\n",
    "* Déterminer et représenter la courbe ROC\n",
    "* Calculer l'air sous la courbe ROC (AUC)\n",
    "\n",
    "Nous pourrons, grâce à la valeur de l'air sous la courbe ROC sélectionner le meilleur modèle."
   ]
  },
  {
   "cell_type": "code",
   "execution_count": 55,
   "metadata": {},
   "outputs": [],
   "source": [
    "def myROCCurvePlot(xVal, yVal, model, title='Courbe ROC'):\n",
    "    # On calcul le score:\n",
    "    predict = model.predict(xVal)\n",
    "    score = model.score(xVal, yVal)\n",
    "    #Faux positifs et Vrais positifs\n",
    "    fp, vp,_ = roc_curve(yVal, predict)\n",
    "    lw =2\n",
    "    #L'air sous la courbe\n",
    "    auc = roc_auc_score(y_val,predict)\n",
    "    plt.figure()\n",
    "    plt.plot(fp, vp, color='darkorange',lw=lw, label='Courbe ROC (area = %0.2f)' % auc)\n",
    "    plt.plot([0, 1], [0, 1], color='navy', lw=lw, linestyle='--')\n",
    "    plt.xlim([0.0, 1.0])\n",
    "    plt.ylim([0.0, 1.05])\n",
    "    plt.xlabel('Taux de Faux Positifs')\n",
    "    plt.ylabel('Taux de vrais Positifs')\n",
    "    plt.title(title + ' / Score= %0.2f'% score)\n",
    "    plt.legend(loc=\"lower right\")\n",
    "    plt.show()\n",
    "    \n",
    "    return auc\n"
   ]
  },
  {
   "cell_type": "markdown",
   "metadata": {},
   "source": [
    "* __Regression logistique__"
   ]
  },
  {
   "cell_type": "code",
   "execution_count": 56,
   "metadata": {},
   "outputs": [
    {
     "data": {
      "image/png": "[encoded data removed]",
      "text/plain": [
       "<Figure size 432x288 with 1 Axes>"
      ]
     },
     "metadata": {
      "needs_background": "light"
     },
     "output_type": "display_data"
    },
    {
     "name": "stdout",
     "output_type": "stream",
     "text": [
      "Air Under Curve: 0.56\n"
     ]
    }
   ],
   "source": [
    "# Model Regression Logistic\n",
    "\n",
    "aucLR = myROCCurvePlot(X_val, y_val, modelLR, 'Courbe ROC Regression Logistique')\n",
    "print(\"Air Under Curve: %0.2f\"% aucLR)"
   ]
  },
  {
   "cell_type": "markdown",
   "metadata": {},
   "source": [
    "* __Gradient Bosting__"
   ]
  },
  {
   "cell_type": "code",
   "execution_count": 57,
   "metadata": {},
   "outputs": [
    {
     "data": {
      "image/png": "[encoded data removed]",
      "text/plain": [
       "<Figure size 432x288 with 1 Axes>"
      ]
     },
     "metadata": {
      "needs_background": "light"
     },
     "output_type": "display_data"
    },
    {
     "name": "stdout",
     "output_type": "stream",
     "text": [
      "Air Under Curve: 0.59\n"
     ]
    }
   ],
   "source": [
    "# Model Regression Logistic\n",
    "\n",
    "aucGB = myROCCurvePlot(X_val, y_val, modelGB, 'Courbe ROC Gradient Bossting')\n",
    "print(\"Air Under Curve: %0.2f\"% aucGB)"
   ]
  },
  {
   "cell_type": "markdown",
   "metadata": {},
   "source": [
    "* __Artbre de décision__"
   ]
  },
  {
   "cell_type": "code",
   "execution_count": 58,
   "metadata": {},
   "outputs": [
    {
     "data": {
      "image/png": "[encoded data removed]",
      "text/plain": [
       "<Figure size 432x288 with 1 Axes>"
      ]
     },
     "metadata": {
      "needs_background": "light"
     },
     "output_type": "display_data"
    },
    {
     "name": "stdout",
     "output_type": "stream",
     "text": [
      "Air Under Curve: 0.60\n"
     ]
    }
   ],
   "source": [
    "aucTree = myROCCurvePlot(X_val, y_val, modelTree, 'Courbe ROC Arbre de décision')\n",
    "print(\"Air Under Curve: %0.2f\"% aucTree)"
   ]
  },
  {
   "cell_type": "markdown",
   "metadata": {},
   "source": [
    "* __Boosting__"
   ]
  },
  {
   "cell_type": "code",
   "execution_count": 59,
   "metadata": {},
   "outputs": [
    {
     "data": {
      "image/png": "[encoded data removed]",
      "text/plain": [
       "<Figure size 432x288 with 1 Axes>"
      ]
     },
     "metadata": {
      "needs_background": "light"
     },
     "output_type": "display_data"
    },
    {
     "name": "stdout",
     "output_type": "stream",
     "text": [
      "Air Under Curve: 0.55\n"
     ]
    }
   ],
   "source": [
    "aucBoosting = myROCCurvePlot(X_val, y_val, modelBoosting, 'Courbe ROC Boosting')\n",
    "print(\"Air Under Curve: %0.2f\"% aucBoosting)"
   ]
  },
  {
   "cell_type": "markdown",
   "metadata": {},
   "source": [
    "* __Random Forest__"
   ]
  },
  {
   "cell_type": "code",
   "execution_count": 61,
   "metadata": {},
   "outputs": [
    {
     "data": {
      "image/png": "[encoded data removed]",
      "text/plain": [
       "<Figure size 432x288 with 1 Axes>"
      ]
     },
     "metadata": {
      "needs_background": "light"
     },
     "output_type": "display_data"
    },
    {
     "name": "stdout",
     "output_type": "stream",
     "text": [
      "Air Under Curve: 0.57\n"
     ]
    }
   ],
   "source": [
    "aucRF = myROCCurvePlot(X_val, y_val, modelRF, 'Courbe ROC Ranbdom Forest')\n",
    "print(\"Air Under Curve: %0.2f\"% aucRF)"
   ]
  },
  {
   "cell_type": "markdown",
   "metadata": {},
   "source": [
    "## 6. Conclusion"
   ]
  },
  {
   "cell_type": "markdown",
   "metadata": {},
   "source": [
    "De tous les modèles précédents, le meilleur (celui avec l'air sous la courbe ROC la plus élevée) ets __l'arbre de décision__.\n",
    "\n",
    "Le principal avantage des arbres de décision est l'interprétabilite:"
   ]
  },
  {
   "cell_type": "code",
   "execution_count": 72,
   "metadata": {},
   "outputs": [
    {
     "data": {
      "text/plain": [
       "[Text(167.4, 163.07999999999998, 'X[10] <= 0.5\\nentropy = 0.197\\nsamples = 950\\nvalue = [845, 105]'),\n",
       " Text(83.7, 54.360000000000014, 'entropy = 0.4\\nsamples = 188\\nvalue = [136, 52]'),\n",
       " Text(251.10000000000002, 54.360000000000014, 'entropy = 0.129\\nsamples = 762\\nvalue = [709, 53]')]"
      ]
     },
     "execution_count": 72,
     "metadata": {},
     "output_type": "execute_result"
    },
    {
     "data": {
      "image/png": "[encoded data removed]",
      "text/plain": [
       "<Figure size 432x288 with 1 Axes>"
      ]
     },
     "metadata": {
      "needs_background": "light"
     },
     "output_type": "display_data"
    }
   ],
   "source": [
    "from sklearn import tree\n",
    "md = modelTree \n",
    "ft = md.fit(X_test, y_test)\n",
    "tree.plot_tree(ft.best_estimator_)"
   ]
  },
  {
   "cell_type": "code",
   "execution_count": null,
   "metadata": {},
   "outputs": [],
   "source": []
  }
 ],
 "metadata": {
  "kernelspec": {
   "display_name": "Python 3",
   "language": "python",
   "name": "python3"
  },
  "language_info": {
   "codemirror_mode": {
    "name": "ipython",
    "version": 3
   },
   "file_extension": ".py",
   "mimetype": "text/x-python",
   "name": "python",
   "nbconvert_exporter": "python",
   "pygments_lexer": "ipython3",
   "version": "3.6.8"
  }
 },
 "nbformat": 4,
 "nbformat_minor": 4
}
